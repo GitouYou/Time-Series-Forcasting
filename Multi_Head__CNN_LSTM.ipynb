{
 "cells": [
  {
   "cell_type": "code",
   "execution_count": 1,
   "metadata": {
    "collapsed": true
   },
   "outputs": [],
   "source": [
    "import numpy as np\n",
    "import pandas as pd\n",
    "import matplotlib.pyplot as plt\n",
    "%matplotlib inline"
   ]
  },
  {
   "cell_type": "code",
   "execution_count": 2,
   "metadata": {
    "collapsed": true
   },
   "outputs": [],
   "source": [
    "df = pd.read_csv('Work_with_Ambuj.csv')\n",
    "df.set_index('Date', inplace = True)\n",
    "df.index = pd.to_datetime(df.index)"
   ]
  },
  {
   "cell_type": "code",
   "execution_count": 3,
   "metadata": {
    "collapsed": true
   },
   "outputs": [],
   "source": [
    "mn = df.min()\n",
    "mx = df.max()\n",
    "dataset = (df-mn)/(mx-mn)\n",
    "dataset = dataset.as_matrix()"
   ]
  },
  {
   "cell_type": "code",
   "execution_count": 15,
   "metadata": {
    "collapsed": true
   },
   "outputs": [],
   "source": [
    "from numpy import array\n",
    "\n",
    "from keras.models import Model\n",
    "from keras.layers import Input\n",
    "from keras.layers import Dense\n",
    "from keras.layers import LSTM\n",
    "\n",
    "from keras.layers.merge import concatenate\n",
    "from sklearn.metrics import r2_score\n",
    "from keras.layers import Dropout\n",
    "from keras.layers import Flatten\n",
    "\n",
    "from keras.layers import ConvLSTM2D\n",
    "from numpy import array\n",
    "from keras.models import Sequential\n",
    "from keras.layers import LSTM\n",
    "from keras.layers import Dense\n",
    "from keras.layers import Flatten\n",
    "from keras.layers import TimeDistributed\n",
    "from keras.layers.convolutional import Conv1D\n",
    "from keras.layers.convolutional import MaxPooling1D"
   ]
  },
  {
   "cell_type": "code",
   "execution_count": 16,
   "metadata": {
    "collapsed": true
   },
   "outputs": [],
   "source": [
    "from keras.utils import plot_model\n",
    "from sklearn.metrics import mean_squared_error\n",
    "from keras.models import load_model\n",
    "from scipy import stats\n",
    "import csv as csv\n",
    "\n",
    "import copy\n"
   ]
  },
  {
   "cell_type": "code",
   "execution_count": 6,
   "metadata": {
    "collapsed": true
   },
   "outputs": [],
   "source": [
    "def split_sequences(sequences, n_steps):\n",
    "    X, y = list(), list()\n",
    "    for i in range(len(sequences)):\n",
    "# find the end of this pattern\n",
    "        end_ix = i + n_steps\n",
    "# check if we are beyond the dataset\n",
    "        if end_ix > len(sequences):\n",
    "            break\n",
    "# gather input and output parts of the pattern\n",
    "        seq_x, seq_y = sequences[i:end_ix, :-1], sequences[end_ix-1, -1]\n",
    "        X.append(seq_x)\n",
    "        y.append(seq_y)\n",
    "    return array(X), array(y)"
   ]
  },
  {
   "cell_type": "code",
   "execution_count": 7,
   "metadata": {},
   "outputs": [
    {
     "name": "stdout",
     "output_type": "stream",
     "text": [
      "(1563, 3, 20) (1563,)\n"
     ]
    }
   ],
   "source": [
    "n_steps = 3\n",
    "# convert into input/output\n",
    "X, y = split_sequences(dataset, n_steps)\n",
    "print(X.shape, y.shape)"
   ]
  },
  {
   "cell_type": "code",
   "execution_count": 8,
   "metadata": {},
   "outputs": [
    {
     "name": "stdout",
     "output_type": "stream",
     "text": [
      "(1304, 3, 20)\n",
      "(1304,)\n",
      "(259, 3, 20)\n",
      "(259,)\n"
     ]
    }
   ],
   "source": [
    "x_train = X[:1304]\n",
    "y_train = y[:1304]\n",
    "x_test = X[1304:]\n",
    "y_test = y[1304:]\n",
    "\n",
    "\n",
    "print(x_train.shape)\n",
    "print(y_train.shape)\n",
    "print(x_test.shape)\n",
    "print(y_test.shape)"
   ]
  },
  {
   "cell_type": "code",
   "execution_count": 9,
   "metadata": {
    "collapsed": true
   },
   "outputs": [],
   "source": [
    "n_features = 1\n",
    "\n",
    "n_steps, n_length = 3, 1\n"
   ]
  },
  {
   "cell_type": "code",
   "execution_count": null,
   "metadata": {
    "collapsed": true
   },
   "outputs": [],
   "source": []
  },
  {
   "cell_type": "code",
   "execution_count": 10,
   "metadata": {
    "collapsed": true
   },
   "outputs": [],
   "source": [
    "\n",
    "# separate input data\n",
    "X1 = x_train[:, :, 0].reshape((x_train.shape[0], n_steps,n_length, n_features))\n",
    "X2 = x_train[:, :, 1].reshape((x_train.shape[0], n_steps,n_length, n_features))\n",
    "X3 = x_train[:, :, 2].reshape((x_train.shape[0], n_steps,n_length, n_features))\n",
    "X4 = x_train[:, :, 3].reshape((x_train.shape[0], n_steps,n_length, n_features))\n",
    "X5 = x_train[:, :, 4].reshape((x_train.shape[0], n_steps,n_length, n_features))\n",
    "X6 = x_train[:, :, 5].reshape((x_train.shape[0], n_steps,n_length, n_features))\n",
    "X7 = x_train[:, :, 6].reshape((x_train.shape[0], n_steps,n_length, n_features))\n",
    "\n",
    "X8 = x_train[:, :, 7].reshape((x_train.shape[0], n_steps,n_length, n_features))\n",
    "X9 = x_train[:, :, 8].reshape((x_train.shape[0], n_steps,n_length, n_features))\n",
    "X10 = x_train[:, :, 9].reshape((x_train.shape[0], n_steps,n_length, n_features))\n",
    "X11 = x_train[:, :, 10].reshape((x_train.shape[0], n_steps,n_length, n_features))\n",
    "X12 = x_train[:, :, 11].reshape((x_train.shape[0], n_steps,n_length, n_features))\n",
    "X13 = x_train[:, :, 12].reshape((x_train.shape[0], n_steps,n_length, n_features))\n",
    "X14 = x_train[:, :, 13].reshape((x_train.shape[0], n_steps,n_length, n_features))\n",
    "X15 = x_train[:, :, 14].reshape((x_train.shape[0], n_steps,n_length, n_features))\n",
    "X16 = x_train[:, :, 15].reshape((x_train.shape[0], n_steps,n_length, n_features))\n",
    "X17 = x_train[:, :, 16].reshape((x_train.shape[0], n_steps,n_length, n_features))\n",
    "X18 = x_train[:, :, 17].reshape((x_train.shape[0], n_steps,n_length, n_features))\n",
    "\n",
    "X19 = x_train[:, :, 18].reshape((x_train.shape[0], n_steps,n_length, n_features))\n",
    "X20 = x_train[:, :, 19].reshape((x_train.shape[0], n_steps,n_length, n_features))"
   ]
  },
  {
   "cell_type": "code",
   "execution_count": 11,
   "metadata": {
    "collapsed": true
   },
   "outputs": [],
   "source": [
    "AX1 = x_test[:, :, 0].reshape((x_test.shape[0], n_steps,n_length, n_features))\n",
    "AX2 = x_test[:, :, 1].reshape((x_test.shape[0], n_steps,n_length, n_features))\n",
    "AX3 = x_test[:, :, 2].reshape((x_test.shape[0], n_steps,n_length, n_features))\n",
    "AX4 = x_test[:, :, 3].reshape((x_test.shape[0], n_steps,n_length, n_features))\n",
    "AX5 = x_test[:, :, 4].reshape((x_test.shape[0], n_steps,n_length, n_features))\n",
    "AX6 = x_test[:, :, 5].reshape((x_test.shape[0], n_steps,n_length, n_features))\n",
    "AX7 = x_test[:, :, 6].reshape((x_test.shape[0], n_steps,n_length, n_features))\n",
    "AX8 = x_test[:, :, 7].reshape((x_test.shape[0], n_steps,n_length, n_features))\n",
    "AX9 = x_test[:, :, 8].reshape((x_test.shape[0], n_steps,n_length, n_features))\n",
    "AX10 = x_test[:, :, 9].reshape((x_test.shape[0], n_steps,n_length, n_features))\n",
    "AX11 = x_test[:, :, 10].reshape((x_test.shape[0], n_steps,n_length, n_features))\n",
    "AX12 = x_test[:, :, 11].reshape((x_test.shape[0], n_steps,n_length, n_features))\n",
    "AX13 = x_test[:, :, 12].reshape((x_test.shape[0], n_steps,n_length, n_features))\n",
    "AX14 = x_test[:, :, 13].reshape((x_test.shape[0], n_steps,n_length, n_features))\n",
    "\n",
    "AX15 = x_test[:, :, 14].reshape((x_test.shape[0], n_steps,n_length, n_features))\n",
    "AX16 = x_test[:, :, 15].reshape((x_test.shape[0], n_steps,n_length, n_features))\n",
    "AX17 = x_test[:, :, 16].reshape((x_test.shape[0], n_steps,n_length, n_features))\n",
    "AX18 = x_test[:, :, 17].reshape((x_test.shape[0], n_steps,n_length, n_features))\n",
    "AX19 = x_test[:, :, 18].reshape((x_test.shape[0], n_steps,n_length, n_features))\n",
    "AX20 = x_test[:, :, 19].reshape((x_test.shape[0], n_steps,n_length, n_features))\n",
    "\n",
    "\n"
   ]
  },
  {
   "cell_type": "code",
   "execution_count": 12,
   "metadata": {},
   "outputs": [
    {
     "name": "stdout",
     "output_type": "stream",
     "text": [
      "(1304, 3, 1, 1) (259, 3, 1, 1)\n"
     ]
    }
   ],
   "source": [
    "print(X1.shape,AX1.shape)"
   ]
  },
  {
   "cell_type": "code",
   "execution_count": 17,
   "metadata": {
    "collapsed": true
   },
   "outputs": [],
   "source": [
    "\n",
    "visible1 = Input(shape=(None,n_length,n_features))\n",
    "temp1 = TimeDistributed(Conv1D(filters=64, kernel_size=3, activation='relu',padding = 'same'))(visible1)\n",
    "tenp1 = TimeDistributed(Flatten())(temp1)\n",
    "cn1 = LSTM(16)(tenp1)\n",
    "\n",
    "visible2 = Input(shape=(None,n_length,n_features))\n",
    "temp2 = TimeDistributed(Conv1D(filters=64, kernel_size=3, activation='relu',padding = 'same'))(visible2)\n",
    "tenp2 = TimeDistributed(Flatten())(temp2)\n",
    "cn2 = LSTM(16)(tenp2)\n",
    "\n",
    "visible3 = Input(shape=(None,n_length,n_features))\n",
    "temp3 = TimeDistributed(Conv1D(filters=64, kernel_size=3, activation='relu',padding = 'same'))(visible3)\n",
    "tenp3 = TimeDistributed(Flatten())(temp3)\n",
    "cn3 = LSTM(16)(tenp3)\n",
    "\n",
    "visible4 = Input(shape=(None,n_length,n_features))\n",
    "temp4 = TimeDistributed(Conv1D(filters=64, kernel_size=3, activation='relu',padding = 'same'))(visible4)\n",
    "tenp4 = TimeDistributed(Flatten())(temp4)\n",
    "cn4 = LSTM(16)(tenp4)\n",
    "\n",
    "visible5 = Input(shape=(None,n_length,n_features))\n",
    "temp5 = TimeDistributed(Conv1D(filters=64, kernel_size=3, activation='relu',padding = 'same'))(visible5)\n",
    "tenp5 = TimeDistributed(Flatten())(temp5)\n",
    "cn5 = LSTM(16)(tenp5)\n",
    "\n",
    "visible6 = Input(shape=(None,n_length,n_features))\n",
    "temp6 = TimeDistributed(Conv1D(filters=64, kernel_size=3, activation='relu',padding = 'same'))(visible6)\n",
    "tenp6 = TimeDistributed(Flatten())(temp6)\n",
    "cn6 = LSTM(16)(tenp6)\n",
    "\n",
    "visible7 = Input(shape=(None,n_length,n_features))\n",
    "temp7 = TimeDistributed(Conv1D(filters=64, kernel_size=3, activation='relu',padding = 'same'))(visible7)\n",
    "tenp7 = TimeDistributed(Flatten())(temp7)\n",
    "cn7 = LSTM(16)(tenp7)\n",
    "\n",
    "visible8 = Input(shape=(None,n_length,n_features))\n",
    "temp8 = TimeDistributed(Conv1D(filters=64, kernel_size=3, activation='relu',padding = 'same'))(visible8)\n",
    "tenp8 = TimeDistributed(Flatten())(temp8)\n",
    "cn8 = LSTM(16)(tenp8)\n",
    "\n",
    "visible9 = Input(shape=(None,n_length,n_features))\n",
    "temp9 = TimeDistributed(Conv1D(filters=64, kernel_size=3, activation='relu',padding = 'same'))(visible9)\n",
    "tenp9 = TimeDistributed(Flatten())(temp9)\n",
    "cn9 = LSTM(16)(tenp9)\n",
    "\n",
    "visible10 = Input(shape=(None,n_length,n_features))\n",
    "temp10 = TimeDistributed(Conv1D(filters=64, kernel_size=3, activation='relu',padding = 'same'))(visible10)\n",
    "tenp10 = TimeDistributed(Flatten())(temp10)\n",
    "cn10 = LSTM(16)(tenp10)\n",
    "\n",
    "visible11 = Input(shape=(None,n_length,n_features))\n",
    "temp11 = TimeDistributed(Conv1D(filters=64, kernel_size=3, activation='relu',padding = 'same'))(visible11)\n",
    "tenp11 = TimeDistributed(Flatten())(temp11)\n",
    "cn11 = LSTM(16)(tenp11)\n",
    "\n",
    "visible12 = Input(shape=(None,n_length,n_features))\n",
    "temp12 = TimeDistributed(Conv1D(filters=64, kernel_size=3, activation='relu',padding = 'same'))(visible12)\n",
    "tenp12 = TimeDistributed(Flatten())(temp12)\n",
    "cn12 = LSTM(16)(tenp12)\n",
    "\n",
    "visible13 = Input(shape=(None,n_length,n_features))\n",
    "temp13 = TimeDistributed(Conv1D(filters=64, kernel_size=3, activation='relu',padding = 'same'))(visible13)\n",
    "tenp13 = TimeDistributed(Flatten())(temp13)\n",
    "cn13 = LSTM(16)(tenp13)\n",
    "\n",
    "visible14 = Input(shape=(None,n_length,n_features))\n",
    "temp14 = TimeDistributed(Conv1D(filters=64, kernel_size=3, activation='relu',padding = 'same'))(visible14)\n",
    "tenp14 = TimeDistributed(Flatten())(temp14)\n",
    "cn14 = LSTM(16)(tenp14)\n",
    "\n",
    "visible15 = Input(shape=(None,n_length,n_features))\n",
    "temp15 = TimeDistributed(Conv1D(filters=64, kernel_size=3, activation='relu',padding = 'same'))(visible15)\n",
    "tenp15 = TimeDistributed(Flatten())(temp15)\n",
    "cn15 = LSTM(16)(tenp15)\n",
    "\n",
    "visible16 = Input(shape=(None,n_length,n_features))\n",
    "temp16 = TimeDistributed(Conv1D(filters=64, kernel_size=3, activation='relu',padding = 'same'))(visible16)\n",
    "tenp16 = TimeDistributed(Flatten())(temp16)\n",
    "cn16 = LSTM(16)(tenp16)\n",
    "\n",
    "visible17 = Input(shape=(None,n_length,n_features))\n",
    "temp17 = TimeDistributed(Conv1D(filters=64, kernel_size=3, activation='relu',padding = 'same'))(visible17)\n",
    "tenp17 = TimeDistributed(Flatten())(temp17)\n",
    "cn17 = LSTM(16)(tenp17)\n",
    "\n",
    "visible18 = Input(shape=(None,n_length,n_features))\n",
    "temp18 = TimeDistributed(Conv1D(filters=64, kernel_size=3, activation='relu',padding = 'same'))(visible18)\n",
    "tenp18 = TimeDistributed(Flatten())(temp18)\n",
    "cn18 = LSTM(16)(tenp18)\n",
    "\n",
    "visible19 = Input(shape=(None,n_length,n_features))\n",
    "temp19 = TimeDistributed(Conv1D(filters=64, kernel_size=3, activation='relu',padding = 'same'))(visible19)\n",
    "tenp19 = TimeDistributed(Flatten())(temp19)\n",
    "cn19 = LSTM(16)(tenp19)\n",
    "\n",
    "visible20 = Input(shape=(None,n_length,n_features))\n",
    "temp20 = TimeDistributed(Conv1D(filters=64, kernel_size=3, activation='relu',padding = 'same'))(visible20)\n",
    "tenp20 = TimeDistributed(Flatten())(temp20)\n",
    "cn20 = LSTM(16)(tenp20)\n"
   ]
  },
  {
   "cell_type": "code",
   "execution_count": 18,
   "metadata": {
    "collapsed": true
   },
   "outputs": [],
   "source": [
    "merge = concatenate([cn1, cn2, cn3, cn4, cn5, cn6, cn7, cn8, cn9, cn10, cn11, cn12,cn13, cn14, cn15, cn16,cn17, cn18, cn19, cn20])\n",
    "dense = Dense(100, activation='relu')(merge)\n",
    "#dense = Dropout(0.2)(densea)\n",
    "output = Dense(1)(dense)\n",
    "model = Model(inputs=[visible1, visible2, visible3, visible4, visible5, visible6, visible7, visible8, visible9, visible10, visible11, visible12, visible13, visible14, visible15, visible16,visible17, visible18, visible19, visible20], outputs=output)"
   ]
  },
  {
   "cell_type": "code",
   "execution_count": 19,
   "metadata": {
    "collapsed": true
   },
   "outputs": [],
   "source": [
    "model.compile(optimizer='adam', loss='mse')"
   ]
  },
  {
   "cell_type": "code",
   "execution_count": 20,
   "metadata": {
    "collapsed": true
   },
   "outputs": [],
   "source": [
    "train_x = [X1, X2, X3, X4, X5, X6,X7, X8, X9, X10, X11, X12, X13,X14,X15, X16, X17, X18, X19, X20]\n",
    "test_x = [AX1, AX2, AX3, AX4, AX5, AX6,AX7, AX8, AX9, AX10, AX11, AX12, AX13,AX14,AX15, AX16, AX17, AX18, AX19, AX20]"
   ]
  },
  {
   "cell_type": "code",
   "execution_count": 21,
   "metadata": {
    "scrolled": true
   },
   "outputs": [
    {
     "name": "stdout",
     "output_type": "stream",
     "text": [
      "Train on 1304 samples, validate on 259 samples\n",
      "Epoch 1/32\n",
      "1304/1304 [==============================] - 54s 41ms/step - loss: 0.0062 - val_loss: 0.0081\n",
      "Epoch 2/32\n",
      "1304/1304 [==============================] - 7s 5ms/step - loss: 0.0039 - val_loss: 0.0074\n",
      "Epoch 3/32\n",
      "1304/1304 [==============================] - 7s 6ms/step - loss: 0.0037 - val_loss: 0.0074\n",
      "Epoch 4/32\n",
      "1304/1304 [==============================] - 7s 5ms/step - loss: 0.0037 - val_loss: 0.0073\n",
      "Epoch 5/32\n",
      "1304/1304 [==============================] - 7s 6ms/step - loss: 0.0037 - val_loss: 0.0073\n",
      "Epoch 6/32\n",
      "1304/1304 [==============================] - 7s 6ms/step - loss: 0.0037 - val_loss: 0.0074\n",
      "Epoch 7/32\n",
      "1304/1304 [==============================] - 7s 6ms/step - loss: 0.0036 - val_loss: 0.0077\n",
      "Epoch 8/32\n",
      "1304/1304 [==============================] - 7s 6ms/step - loss: 0.0036 - val_loss: 0.0077\n",
      "Epoch 9/32\n",
      "1304/1304 [==============================] - 7s 6ms/step - loss: 0.0036 - val_loss: 0.0078\n",
      "Epoch 10/32\n",
      "1304/1304 [==============================] - 7s 6ms/step - loss: 0.0036 - val_loss: 0.0073\n",
      "Epoch 11/32\n",
      "1304/1304 [==============================] - 7s 5ms/step - loss: 0.0039 - val_loss: 0.0075\n",
      "Epoch 12/32\n",
      "1304/1304 [==============================] - 8s 6ms/step - loss: 0.0036 - val_loss: 0.0074\n",
      "Epoch 13/32\n",
      "1304/1304 [==============================] - 7s 5ms/step - loss: 0.0036 - val_loss: 0.0073\n",
      "Epoch 14/32\n",
      "1304/1304 [==============================] - 8s 6ms/step - loss: 0.0036 - val_loss: 0.0078\n",
      "Epoch 15/32\n",
      "1304/1304 [==============================] - 7s 5ms/step - loss: 0.0037 - val_loss: 0.0081\n",
      "Epoch 16/32\n",
      "1304/1304 [==============================] - 8s 6ms/step - loss: 0.0037 - val_loss: 0.0073\n",
      "Epoch 17/32\n",
      "1304/1304 [==============================] - 8s 6ms/step - loss: 0.0036 - val_loss: 0.0076\n",
      "Epoch 18/32\n",
      "1304/1304 [==============================] - 8s 6ms/step - loss: 0.0036 - val_loss: 0.0076\n",
      "Epoch 19/32\n",
      "1304/1304 [==============================] - 7s 6ms/step - loss: 0.0036 - val_loss: 0.0084\n",
      "Epoch 20/32\n",
      "1304/1304 [==============================] - 7s 6ms/step - loss: 0.0036 - val_loss: 0.0075\n",
      "Epoch 21/32\n",
      "1304/1304 [==============================] - 7s 6ms/step - loss: 0.0035 - val_loss: 0.0073\n",
      "Epoch 22/32\n",
      "1304/1304 [==============================] - 7s 6ms/step - loss: 0.0035 - val_loss: 0.0083\n",
      "Epoch 23/32\n",
      "1304/1304 [==============================] - 8s 6ms/step - loss: 0.0036 - val_loss: 0.0074\n",
      "Epoch 24/32\n",
      "1304/1304 [==============================] - 7s 6ms/step - loss: 0.0036 - val_loss: 0.0073\n",
      "Epoch 25/32\n",
      "1304/1304 [==============================] - 8s 6ms/step - loss: 0.0035 - val_loss: 0.0075\n",
      "Epoch 26/32\n",
      "1304/1304 [==============================] - 7s 6ms/step - loss: 0.0035 - val_loss: 0.0073\n",
      "Epoch 27/32\n",
      "1304/1304 [==============================] - 8s 6ms/step - loss: 0.0036 - val_loss: 0.0074\n",
      "Epoch 28/32\n",
      "1304/1304 [==============================] - 7s 6ms/step - loss: 0.0035 - val_loss: 0.0075\n",
      "Epoch 29/32\n",
      "1304/1304 [==============================] - 8s 6ms/step - loss: 0.0034 - val_loss: 0.0074\n",
      "Epoch 30/32\n",
      "1304/1304 [==============================] - 8s 6ms/step - loss: 0.0034 - val_loss: 0.0074\n",
      "Epoch 31/32\n",
      "1304/1304 [==============================] - 9s 7ms/step - loss: 0.0035 - val_loss: 0.0077\n",
      "Epoch 32/32\n",
      "1304/1304 [==============================] - 7s 5ms/step - loss: 0.0034 - val_loss: 0.0073\n"
     ]
    }
   ],
   "source": [
    "history = model.fit(train_x, y_train, epochs=32, verbose=1,batch_size=20, validation_data=(test_x, y_test))\n"
   ]
  },
  {
   "cell_type": "code",
   "execution_count": 22,
   "metadata": {
    "collapsed": true
   },
   "outputs": [],
   "source": [
    "def rsquared(x, y):\n",
    "    \"\"\" Return R^2 where x and y are array-like.\"\"\"\n",
    "\n",
    "    slope, intercept, r_value, p_value, std_err = stats.linregress(x, y)\n",
    "    return r_value**2"
   ]
  },
  {
   "cell_type": "code",
   "execution_count": 23,
   "metadata": {
    "collapsed": true
   },
   "outputs": [],
   "source": [
    "y_train_pred = model.predict(train_x)\n",
    "y_pred = model.predict(test_x)\n",
    "\n",
    "\n",
    "actual = y_train\n",
    "predicted = y_train_pred\n",
    "maxv = mx[20]\n",
    "minv = mn[20]\n",
    "actual = np.array(actual)*(maxv-minv) + minv\n",
    "predicted = np.array(predicted)*(maxv-minv) + minv\n",
    "\n",
    "actualAvg10 = list()\n",
    "predictedAvg10 = list()\n",
    "for i in range(0, actual.shape[0], 7):\n",
    "        actualAvg10.append(np.sum(actual[i:i+7]))\n",
    "        predictedAvg10.append(np.sum(predicted[i:i+7]))\n",
    "actualAvg10 = np.array(actualAvg10)\n",
    "actualAvg10 = actualAvg10.reshape(len(actualAvg10),)\n",
    "predictedAvg10 = np.array(predictedAvg10)\n",
    "predictedAvg10 = predictedAvg10.reshape(len(predictedAvg10),)\n",
    "actual = actual.reshape(len(actual),)\n",
    "predicted = predicted.reshape(len(predicted),)\n",
    "#train = pd.DataFrame({\"Actual\":actualAvg10,\"Pred\":predictedAvg10})\n",
    "w_train = pd.DataFrame({'y_train': actualAvg10, 'y_train_pred': predictedAvg10})\n",
    "d_train = pd.DataFrame({'y_train': actual, 'y_train_pred': predicted})\n",
    "\n",
    "w_rmse=np.sqrt(mean_squared_error(np.array(actualAvg10), np.array(predictedAvg10)))\n",
    "      \n",
    "w_r_squared=rsquared(np.array(actualAvg10),np.array(predictedAvg10))\n",
    "\n",
    "d_rmse=np.sqrt(mean_squared_error(np.array(actual), np.array(predicted)))\n",
    "      \n",
    "d_r_squared=rsquared(np.array(actual),np.array(predicted))\n",
    "\n",
    "\n",
    "actual_t = y_test\n",
    "predicted_t = y_pred\n",
    "maxv = mx[20]\n",
    "minv = mn[20]\n",
    "actual_t = np.array(actual_t)*(maxv-minv) + minv\n",
    "predicted_t = np.array(predicted_t)*(maxv-minv) + minv\n",
    "\n",
    "actualAvg10_t = list()\n",
    "predictedAvg10_t = list()\n",
    "for i in range(0, actual_t.shape[0], 7):\n",
    "        actualAvg10_t.append(np.sum(actual_t[i:i+7]))\n",
    "        predictedAvg10_t.append(np.sum(predicted_t[i:i+7]))\n",
    "actualAvg10_t = np.array(actualAvg10_t)\n",
    "actualAvg10_t = actualAvg10_t.reshape(len(actualAvg10_t),)\n",
    "predictedAvg10_t = np.array(predictedAvg10_t)\n",
    "predictedAvg10_t = predictedAvg10_t.reshape(len(predictedAvg10_t),)\n",
    "actual_t = actual_t.reshape(len(actual_t),)\n",
    "predicted_t = predicted_t.reshape(len(predicted_t),)\n",
    "#train = pd.DataFrame({\"Actual\":actualAvg10,\"Pred\":predictedAvg10})\n",
    "w_test = pd.DataFrame({'y_test': actualAvg10_t, 'y_test_pred': predictedAvg10_t})\n",
    "d_test = pd.DataFrame({'y_test': actual_t, 'y_test_pred': predicted_t})\n",
    "\n",
    "w_rmse_t=np.sqrt(mean_squared_error(np.array(actualAvg10_t), np.array(predictedAvg10_t)))\n",
    "      \n",
    "w_r_squared_t=rsquared(np.array(actualAvg10_t),np.array(predictedAvg10_t))\n",
    "\n",
    "d_rmse_t=np.sqrt(mean_squared_error(np.array(actual_t), np.array(predicted_t)))\n",
    "      \n",
    "d_r_squared_t=rsquared(np.array(actual_t),np.array(predicted_t))\n"
   ]
  },
  {
   "cell_type": "code",
   "execution_count": 24,
   "metadata": {},
   "outputs": [
    {
     "name": "stdout",
     "output_type": "stream",
     "text": [
      "weekly train rmse , weekly train r2 : 265.633519139 0.431074960003\n",
      "weekly test rmse , weekly test r2 : 278.419833042 0.0236685554526\n",
      "daily train rmse, daily train r2 89.6118844182 0.092435233735\n",
      "daily test rmse, daily test r2 130.081082594 0.000711324336821\n"
     ]
    }
   ],
   "source": [
    "print(\"weekly train rmse , weekly train r2 :\",w_rmse,w_r_squared)\n",
    "print(\"weekly test rmse , weekly test r2 :\",w_rmse_t,w_r_squared_t)\n",
    "\n",
    "print(\"daily train rmse, daily train r2\",d_rmse,d_r_squared)\n",
    "print(\"daily test rmse, daily test r2\",d_rmse_t,d_r_squared_t)"
   ]
  },
  {
   "cell_type": "code",
   "execution_count": 30,
   "metadata": {
    "collapsed": true
   },
   "outputs": [],
   "source": [
    "w_test.to_csv(\"C:/Users/user/Desktop/try/weekly_test_\"+str(w_rmse_t)+\"_\"+str(w_r_squared_t)+\".csv\")\n",
    "d_test.to_csv(\"C:/Users/user/Desktop/try/daily_test_\"+str(d_rmse_t)+\"_\"+str(d_r_squared_t)+\".csv\")\n",
    "\n",
    "w_train.to_csv(\"C:/Users/user/Desktop/try/weekly_train_\"+str(w_rmse)+\"_\"+str(w_r_squared)+\".csv\")\n",
    "d_train.to_csv(\"C:/Users/user/Desktop/try/daily_train_\"+str(d_rmse)+\"_\"+str(d_r_squared)+\".csv\")"
   ]
  },
  {
   "cell_type": "code",
   "execution_count": null,
   "metadata": {
    "collapsed": true
   },
   "outputs": [],
   "source": [
    "model.save(\"C:/Users/user/Desktop/try/model.h5\")"
   ]
  },
  {
   "cell_type": "markdown",
   "metadata": {},
   "source": [
    "##Model Visualization"
   ]
  },
  {
   "cell_type": "code",
   "execution_count": null,
   "metadata": {
    "collapsed": true
   },
   "outputs": [],
   "source": [
    "from keras.utils import plot_model\n",
    "plot_model(model, to_file='model.png')"
   ]
  }
 ],
 "metadata": {
  "kernelspec": {
   "display_name": "Python 3",
   "language": "python",
   "name": "python3"
  },
  "language_info": {
   "codemirror_mode": {
    "name": "ipython",
    "version": 3
   },
   "file_extension": ".py",
   "mimetype": "text/x-python",
   "name": "python",
   "nbconvert_exporter": "python",
   "pygments_lexer": "ipython3",
   "version": "3.6.3"
  }
 },
 "nbformat": 4,
 "nbformat_minor": 2
}
