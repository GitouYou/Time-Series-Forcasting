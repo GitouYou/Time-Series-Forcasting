{
  "nbformat": 4,
  "nbformat_minor": 0,
  "metadata": {
    "colab": {
      "name": "Final_MultiHead_MLP.ipynb",
      "provenance": []
    },
    "language_info": {
      "codemirror_mode": {
        "name": "ipython",
        "version": 3
      },
      "file_extension": ".py",
      "mimetype": "text/x-python",
      "name": "python",
      "nbconvert_exporter": "python",
      "pygments_lexer": "ipython3",
      "version": "3.6.3"
    },
    "kernelspec": {
      "display_name": "Python 3",
      "language": "python",
      "name": "python3"
    }
  },
  "cells": [
    {
      "cell_type": "code",
      "metadata": {
        "id": "-5NaVkAcJX4W",
        "colab_type": "code",
        "colab": {}
      },
      "source": [
        "import numpy as np"
      ],
      "execution_count": 0,
      "outputs": []
    },
    {
      "cell_type": "code",
      "metadata": {
        "id": "HQnk-3GWJX4m",
        "colab_type": "code",
        "colab": {}
      },
      "source": [
        "import pandas as pd\n",
        "import matplotlib.pyplot as plt\n",
        "%matplotlib inline"
      ],
      "execution_count": 0,
      "outputs": []
    },
    {
      "cell_type": "code",
      "metadata": {
        "id": "hMOIDtleJX4y",
        "colab_type": "code",
        "outputId": "76051578-eaa9-407d-9fd7-7fcc0351bac6",
        "colab": {
          "base_uri": "https://localhost:8080/",
          "height": 382
        }
      },
      "source": [
        "df = pd.read_csv('Work_with_Ambuj.csv')"
      ],
      "execution_count": 0,
      "outputs": [
        {
          "output_type": "error",
          "ename": "FileNotFoundError",
          "evalue": "ignored",
          "traceback": [
            "\u001b[0;31m---------------------------------------------------------------------------\u001b[0m",
            "\u001b[0;31mFileNotFoundError\u001b[0m                         Traceback (most recent call last)",
            "\u001b[0;32m<ipython-input-3-4863978c4ebb>\u001b[0m in \u001b[0;36m<module>\u001b[0;34m()\u001b[0m\n\u001b[0;32m----> 1\u001b[0;31m \u001b[0mdf\u001b[0m \u001b[0;34m=\u001b[0m \u001b[0mpd\u001b[0m\u001b[0;34m.\u001b[0m\u001b[0mread_csv\u001b[0m\u001b[0;34m(\u001b[0m\u001b[0;34m'Work_with_Ambuj.csv'\u001b[0m\u001b[0;34m)\u001b[0m\u001b[0;34m\u001b[0m\u001b[0;34m\u001b[0m\u001b[0m\n\u001b[0m",
            "\u001b[0;32m/usr/local/lib/python3.6/dist-packages/pandas/io/parsers.py\u001b[0m in \u001b[0;36mparser_f\u001b[0;34m(filepath_or_buffer, sep, delimiter, header, names, index_col, usecols, squeeze, prefix, mangle_dupe_cols, dtype, engine, converters, true_values, false_values, skipinitialspace, skiprows, skipfooter, nrows, na_values, keep_default_na, na_filter, verbose, skip_blank_lines, parse_dates, infer_datetime_format, keep_date_col, date_parser, dayfirst, iterator, chunksize, compression, thousands, decimal, lineterminator, quotechar, quoting, doublequote, escapechar, comment, encoding, dialect, tupleize_cols, error_bad_lines, warn_bad_lines, delim_whitespace, low_memory, memory_map, float_precision)\u001b[0m\n\u001b[1;32m    700\u001b[0m                     skip_blank_lines=skip_blank_lines)\n\u001b[1;32m    701\u001b[0m \u001b[0;34m\u001b[0m\u001b[0m\n\u001b[0;32m--> 702\u001b[0;31m         \u001b[0;32mreturn\u001b[0m \u001b[0m_read\u001b[0m\u001b[0;34m(\u001b[0m\u001b[0mfilepath_or_buffer\u001b[0m\u001b[0;34m,\u001b[0m \u001b[0mkwds\u001b[0m\u001b[0;34m)\u001b[0m\u001b[0;34m\u001b[0m\u001b[0;34m\u001b[0m\u001b[0m\n\u001b[0m\u001b[1;32m    703\u001b[0m \u001b[0;34m\u001b[0m\u001b[0m\n\u001b[1;32m    704\u001b[0m     \u001b[0mparser_f\u001b[0m\u001b[0;34m.\u001b[0m\u001b[0m__name__\u001b[0m \u001b[0;34m=\u001b[0m \u001b[0mname\u001b[0m\u001b[0;34m\u001b[0m\u001b[0;34m\u001b[0m\u001b[0m\n",
            "\u001b[0;32m/usr/local/lib/python3.6/dist-packages/pandas/io/parsers.py\u001b[0m in \u001b[0;36m_read\u001b[0;34m(filepath_or_buffer, kwds)\u001b[0m\n\u001b[1;32m    427\u001b[0m \u001b[0;34m\u001b[0m\u001b[0m\n\u001b[1;32m    428\u001b[0m     \u001b[0;31m# Create the parser.\u001b[0m\u001b[0;34m\u001b[0m\u001b[0;34m\u001b[0m\u001b[0;34m\u001b[0m\u001b[0m\n\u001b[0;32m--> 429\u001b[0;31m     \u001b[0mparser\u001b[0m \u001b[0;34m=\u001b[0m \u001b[0mTextFileReader\u001b[0m\u001b[0;34m(\u001b[0m\u001b[0mfilepath_or_buffer\u001b[0m\u001b[0;34m,\u001b[0m \u001b[0;34m**\u001b[0m\u001b[0mkwds\u001b[0m\u001b[0;34m)\u001b[0m\u001b[0;34m\u001b[0m\u001b[0;34m\u001b[0m\u001b[0m\n\u001b[0m\u001b[1;32m    430\u001b[0m \u001b[0;34m\u001b[0m\u001b[0m\n\u001b[1;32m    431\u001b[0m     \u001b[0;32mif\u001b[0m \u001b[0mchunksize\u001b[0m \u001b[0;32mor\u001b[0m \u001b[0miterator\u001b[0m\u001b[0;34m:\u001b[0m\u001b[0;34m\u001b[0m\u001b[0;34m\u001b[0m\u001b[0m\n",
            "\u001b[0;32m/usr/local/lib/python3.6/dist-packages/pandas/io/parsers.py\u001b[0m in \u001b[0;36m__init__\u001b[0;34m(self, f, engine, **kwds)\u001b[0m\n\u001b[1;32m    893\u001b[0m             \u001b[0mself\u001b[0m\u001b[0;34m.\u001b[0m\u001b[0moptions\u001b[0m\u001b[0;34m[\u001b[0m\u001b[0;34m'has_index_names'\u001b[0m\u001b[0;34m]\u001b[0m \u001b[0;34m=\u001b[0m \u001b[0mkwds\u001b[0m\u001b[0;34m[\u001b[0m\u001b[0;34m'has_index_names'\u001b[0m\u001b[0;34m]\u001b[0m\u001b[0;34m\u001b[0m\u001b[0;34m\u001b[0m\u001b[0m\n\u001b[1;32m    894\u001b[0m \u001b[0;34m\u001b[0m\u001b[0m\n\u001b[0;32m--> 895\u001b[0;31m         \u001b[0mself\u001b[0m\u001b[0;34m.\u001b[0m\u001b[0m_make_engine\u001b[0m\u001b[0;34m(\u001b[0m\u001b[0mself\u001b[0m\u001b[0;34m.\u001b[0m\u001b[0mengine\u001b[0m\u001b[0;34m)\u001b[0m\u001b[0;34m\u001b[0m\u001b[0;34m\u001b[0m\u001b[0m\n\u001b[0m\u001b[1;32m    896\u001b[0m \u001b[0;34m\u001b[0m\u001b[0m\n\u001b[1;32m    897\u001b[0m     \u001b[0;32mdef\u001b[0m \u001b[0mclose\u001b[0m\u001b[0;34m(\u001b[0m\u001b[0mself\u001b[0m\u001b[0;34m)\u001b[0m\u001b[0;34m:\u001b[0m\u001b[0;34m\u001b[0m\u001b[0;34m\u001b[0m\u001b[0m\n",
            "\u001b[0;32m/usr/local/lib/python3.6/dist-packages/pandas/io/parsers.py\u001b[0m in \u001b[0;36m_make_engine\u001b[0;34m(self, engine)\u001b[0m\n\u001b[1;32m   1120\u001b[0m     \u001b[0;32mdef\u001b[0m \u001b[0m_make_engine\u001b[0m\u001b[0;34m(\u001b[0m\u001b[0mself\u001b[0m\u001b[0;34m,\u001b[0m \u001b[0mengine\u001b[0m\u001b[0;34m=\u001b[0m\u001b[0;34m'c'\u001b[0m\u001b[0;34m)\u001b[0m\u001b[0;34m:\u001b[0m\u001b[0;34m\u001b[0m\u001b[0;34m\u001b[0m\u001b[0m\n\u001b[1;32m   1121\u001b[0m         \u001b[0;32mif\u001b[0m \u001b[0mengine\u001b[0m \u001b[0;34m==\u001b[0m \u001b[0;34m'c'\u001b[0m\u001b[0;34m:\u001b[0m\u001b[0;34m\u001b[0m\u001b[0;34m\u001b[0m\u001b[0m\n\u001b[0;32m-> 1122\u001b[0;31m             \u001b[0mself\u001b[0m\u001b[0;34m.\u001b[0m\u001b[0m_engine\u001b[0m \u001b[0;34m=\u001b[0m \u001b[0mCParserWrapper\u001b[0m\u001b[0;34m(\u001b[0m\u001b[0mself\u001b[0m\u001b[0;34m.\u001b[0m\u001b[0mf\u001b[0m\u001b[0;34m,\u001b[0m \u001b[0;34m**\u001b[0m\u001b[0mself\u001b[0m\u001b[0;34m.\u001b[0m\u001b[0moptions\u001b[0m\u001b[0;34m)\u001b[0m\u001b[0;34m\u001b[0m\u001b[0;34m\u001b[0m\u001b[0m\n\u001b[0m\u001b[1;32m   1123\u001b[0m         \u001b[0;32melse\u001b[0m\u001b[0;34m:\u001b[0m\u001b[0;34m\u001b[0m\u001b[0;34m\u001b[0m\u001b[0m\n\u001b[1;32m   1124\u001b[0m             \u001b[0;32mif\u001b[0m \u001b[0mengine\u001b[0m \u001b[0;34m==\u001b[0m \u001b[0;34m'python'\u001b[0m\u001b[0;34m:\u001b[0m\u001b[0;34m\u001b[0m\u001b[0;34m\u001b[0m\u001b[0m\n",
            "\u001b[0;32m/usr/local/lib/python3.6/dist-packages/pandas/io/parsers.py\u001b[0m in \u001b[0;36m__init__\u001b[0;34m(self, src, **kwds)\u001b[0m\n\u001b[1;32m   1851\u001b[0m         \u001b[0mkwds\u001b[0m\u001b[0;34m[\u001b[0m\u001b[0;34m'usecols'\u001b[0m\u001b[0;34m]\u001b[0m \u001b[0;34m=\u001b[0m \u001b[0mself\u001b[0m\u001b[0;34m.\u001b[0m\u001b[0musecols\u001b[0m\u001b[0;34m\u001b[0m\u001b[0;34m\u001b[0m\u001b[0m\n\u001b[1;32m   1852\u001b[0m \u001b[0;34m\u001b[0m\u001b[0m\n\u001b[0;32m-> 1853\u001b[0;31m         \u001b[0mself\u001b[0m\u001b[0;34m.\u001b[0m\u001b[0m_reader\u001b[0m \u001b[0;34m=\u001b[0m \u001b[0mparsers\u001b[0m\u001b[0;34m.\u001b[0m\u001b[0mTextReader\u001b[0m\u001b[0;34m(\u001b[0m\u001b[0msrc\u001b[0m\u001b[0;34m,\u001b[0m \u001b[0;34m**\u001b[0m\u001b[0mkwds\u001b[0m\u001b[0;34m)\u001b[0m\u001b[0;34m\u001b[0m\u001b[0;34m\u001b[0m\u001b[0m\n\u001b[0m\u001b[1;32m   1854\u001b[0m         \u001b[0mself\u001b[0m\u001b[0;34m.\u001b[0m\u001b[0munnamed_cols\u001b[0m \u001b[0;34m=\u001b[0m \u001b[0mself\u001b[0m\u001b[0;34m.\u001b[0m\u001b[0m_reader\u001b[0m\u001b[0;34m.\u001b[0m\u001b[0munnamed_cols\u001b[0m\u001b[0;34m\u001b[0m\u001b[0;34m\u001b[0m\u001b[0m\n\u001b[1;32m   1855\u001b[0m \u001b[0;34m\u001b[0m\u001b[0m\n",
            "\u001b[0;32mpandas/_libs/parsers.pyx\u001b[0m in \u001b[0;36mpandas._libs.parsers.TextReader.__cinit__\u001b[0;34m()\u001b[0m\n",
            "\u001b[0;32mpandas/_libs/parsers.pyx\u001b[0m in \u001b[0;36mpandas._libs.parsers.TextReader._setup_parser_source\u001b[0;34m()\u001b[0m\n",
            "\u001b[0;31mFileNotFoundError\u001b[0m: [Errno 2] File b'Work_with_Ambuj.csv' does not exist: b'Work_with_Ambuj.csv'"
          ]
        }
      ]
    },
    {
      "cell_type": "code",
      "metadata": {
        "id": "Cubh1YUTJX5A",
        "colab_type": "code",
        "outputId": "3da13528-0c43-453a-bd8d-cdb92f9eae0a",
        "colab": {
          "base_uri": "https://localhost:8080/",
          "height": 185
        }
      },
      "source": [
        "df.set_index('Date', inplace = True)\n",
        "df.index = pd.to_datetime(df.index)"
      ],
      "execution_count": 0,
      "outputs": [
        {
          "output_type": "error",
          "ename": "NameError",
          "evalue": "ignored",
          "traceback": [
            "\u001b[0;31m---------------------------------------------------------------------------\u001b[0m",
            "\u001b[0;31mNameError\u001b[0m                                 Traceback (most recent call last)",
            "\u001b[0;32m<ipython-input-4-2ac447d59bb4>\u001b[0m in \u001b[0;36m<module>\u001b[0;34m()\u001b[0m\n\u001b[0;32m----> 1\u001b[0;31m \u001b[0mdf\u001b[0m\u001b[0;34m.\u001b[0m\u001b[0mset_index\u001b[0m\u001b[0;34m(\u001b[0m\u001b[0;34m'Date'\u001b[0m\u001b[0;34m,\u001b[0m \u001b[0minplace\u001b[0m \u001b[0;34m=\u001b[0m \u001b[0;32mTrue\u001b[0m\u001b[0;34m)\u001b[0m\u001b[0;34m\u001b[0m\u001b[0;34m\u001b[0m\u001b[0m\n\u001b[0m\u001b[1;32m      2\u001b[0m \u001b[0mdf\u001b[0m\u001b[0;34m.\u001b[0m\u001b[0mindex\u001b[0m \u001b[0;34m=\u001b[0m \u001b[0mpd\u001b[0m\u001b[0;34m.\u001b[0m\u001b[0mto_datetime\u001b[0m\u001b[0;34m(\u001b[0m\u001b[0mdf\u001b[0m\u001b[0;34m.\u001b[0m\u001b[0mindex\u001b[0m\u001b[0;34m)\u001b[0m\u001b[0;34m\u001b[0m\u001b[0;34m\u001b[0m\u001b[0m\n",
            "\u001b[0;31mNameError\u001b[0m: name 'df' is not defined"
          ]
        }
      ]
    },
    {
      "cell_type": "code",
      "metadata": {
        "id": "u2bqxb3JJX5W",
        "colab_type": "code",
        "colab": {}
      },
      "source": [
        ""
      ],
      "execution_count": 0,
      "outputs": []
    },
    {
      "cell_type": "code",
      "metadata": {
        "id": "ySnLEx-XJX5l",
        "colab_type": "code",
        "colab": {}
      },
      "source": [
        "data2 = df['Average Daily Expenditure on Medicine A in Dollars']\n"
      ],
      "execution_count": 0,
      "outputs": []
    },
    {
      "cell_type": "code",
      "metadata": {
        "id": "ImwH5cfqJX5s",
        "colab_type": "code",
        "colab": {}
      },
      "source": [
        "data = dataset['Average Daily Expenditure on Medicine A in Dollars']"
      ],
      "execution_count": 0,
      "outputs": []
    },
    {
      "cell_type": "code",
      "metadata": {
        "id": "gE9MglbCJX51",
        "colab_type": "code",
        "colab": {}
      },
      "source": [
        ""
      ],
      "execution_count": 0,
      "outputs": []
    },
    {
      "cell_type": "code",
      "metadata": {
        "id": "quRXuRuUJX57",
        "colab_type": "code",
        "colab": {}
      },
      "source": [
        ""
      ],
      "execution_count": 0,
      "outputs": []
    },
    {
      "cell_type": "code",
      "metadata": {
        "id": "LT8O9XksJX6G",
        "colab_type": "code",
        "colab": {}
      },
      "source": [
        ""
      ],
      "execution_count": 0,
      "outputs": []
    },
    {
      "cell_type": "code",
      "metadata": {
        "id": "LtBmWnVnJX6X",
        "colab_type": "code",
        "colab": {}
      },
      "source": [
        ""
      ],
      "execution_count": 0,
      "outputs": []
    },
    {
      "cell_type": "code",
      "metadata": {
        "id": "qWm8FXStJX6u",
        "colab_type": "code",
        "colab": {}
      },
      "source": [
        "#dataset = np.abs((dataset - dataset.mean())/dataset.std())"
      ],
      "execution_count": 0,
      "outputs": []
    },
    {
      "cell_type": "code",
      "metadata": {
        "id": "t0K4WOwVJX66",
        "colab_type": "code",
        "colab": {}
      },
      "source": [
        "dataset = dataset.as_matrix(columns=None)"
      ],
      "execution_count": 0,
      "outputs": []
    },
    {
      "cell_type": "code",
      "metadata": {
        "id": "YfjbZGZ6JX7B",
        "colab_type": "code",
        "colab": {}
      },
      "source": [
        "from keras.layers import Input\n",
        "from numpy import array\n",
        "from numpy import hstack\n",
        "from keras.models import Model\n",
        "from keras.layers import Input\n",
        "from keras.layers import Dense\n",
        "from keras.layers.merge import concatenate\n",
        "from numpy import array\n",
        "from numpy import hstack\n",
        "from keras.models import Sequential\n",
        "from keras.layers import Dense"
      ],
      "execution_count": 0,
      "outputs": []
    },
    {
      "cell_type": "code",
      "metadata": {
        "id": "5FK4Rn7fJX7I",
        "colab_type": "code",
        "colab": {}
      },
      "source": [
        "def split_sequences(sequences, n_steps):\n",
        "    X, y = list(), list()\n",
        "    for i in range(len(sequences)):\n",
        "# find the end of this pattern\n",
        "        end_ix = i + n_steps\n",
        "# check if we are beyond the dataset\n",
        "        if end_ix > len(sequences):\n",
        "            break\n",
        "# gather input and output parts of the pattern\n",
        "        seq_x, seq_y = sequences[i:end_ix, :-1], sequences[end_ix-1, -1]\n",
        "        X.append(seq_x)\n",
        "        y.append(seq_y)\n",
        "    return array(X), array(y)"
      ],
      "execution_count": 0,
      "outputs": []
    },
    {
      "cell_type": "code",
      "metadata": {
        "id": "sn9-BeqjJX7T",
        "colab_type": "code",
        "outputId": "d842eb36-73fc-4e3d-f5f5-da0b6181410d",
        "colab": {}
      },
      "source": [
        "n_steps = 4\n",
        "# convert into input/output\n",
        "X, y = split_sequences(dataset, n_steps)\n",
        "print(X.shape, y.shape)"
      ],
      "execution_count": 0,
      "outputs": [
        {
          "output_type": "stream",
          "text": [
            "(1562, 4, 20) (1562,)\n"
          ],
          "name": "stdout"
        }
      ]
    },
    {
      "cell_type": "code",
      "metadata": {
        "id": "gT4842_fJX7j",
        "colab_type": "code",
        "colab": {}
      },
      "source": [
        "from sklearn.model_selection import train_test_split\n",
        "x_train,x_test,y_train,y_test = train_test_split(X,y,test_size=0.2)"
      ],
      "execution_count": 0,
      "outputs": []
    },
    {
      "cell_type": "code",
      "metadata": {
        "id": "5EgYFkOiJX7w",
        "colab_type": "code",
        "colab": {}
      },
      "source": [
        "X1 = x_train[:, :, 0]\n",
        "X2 = x_train[:, :, 1]\n",
        "X3 = x_train[:, :, 2]\n",
        "X4 = x_train[:, :, 3]\n",
        "X5 = x_train[:, :, 4]\n",
        "X6 = x_train[:, :, 5]\n",
        "X7 = x_train[:, :, 6]\n",
        "X8 = x_train[:, :, 7]\n",
        "X9 = x_train[:, :, 8]\n",
        "X10 = x_train[:, :, 9]\n",
        "X11 = x_train[:, :, 10]\n",
        "X12 = x_train[:, :, 11]\n",
        "X13 = x_train[:, :, 12]\n",
        "X14 = x_train[:, :, 13]\n",
        "X15 = x_train[:, :, 14]\n",
        "X16 = x_train[:, :, 15]\n",
        "X17 = x_train[:, :, 16]\n",
        "X18 = x_train[:, :, 17]\n",
        "X19 = x_train[:, :, 18]\n",
        "X20 = x_train[:, :, 19]\n",
        "\n",
        "\n",
        "AX1 = x_test[:, :, 0]\n",
        "AX2 = x_test[:, :, 1]\n",
        "AX3 = x_test[:, :, 2]\n",
        "AX4 = x_test[:, :, 3]\n",
        "AX5 = x_test[:, :, 4]\n",
        "AX6 = x_test[:, :, 5]\n",
        "AX7 = x_test[:, :, 6]\n",
        "AX8 = x_test[:, :, 7]\n",
        "AX9 = x_test[:, :, 8]\n",
        "AX10 = x_test[:, :, 9]\n",
        "AX11 = x_test[:, :, 10]\n",
        "AX12 = x_test[:, :, 11]\n",
        "AX13 = x_test[:, :, 12]\n",
        "AX14 = x_test[:, :, 13]\n",
        "AX15 = x_test[:, :, 14]\n",
        "AX16 = x_test[:, :, 15]\n",
        "AX17 = x_test[:, :, 16]\n",
        "AX18 = x_test[:, :, 17]\n",
        "AX19 = x_test[:, :, 18]\n",
        "AX20 = x_test[:, :, 19]"
      ],
      "execution_count": 0,
      "outputs": []
    },
    {
      "cell_type": "code",
      "metadata": {
        "id": "i0nXa7vPJX8F",
        "colab_type": "code",
        "colab": {}
      },
      "source": [
        "from keras.optimizers import Adam\n",
        "#opt = SGD(lr = 0.01, momentum = 0.9, decay = 0.01)\n",
        "\n",
        "opt = Adam(lr=0.001, beta_1=0.99, beta_2=0.999, epsilon=None, decay=0.0, amsgrad=False)"
      ],
      "execution_count": 0,
      "outputs": []
    },
    {
      "cell_type": "code",
      "metadata": {
        "id": "wMwQQtO5JX8O",
        "colab_type": "code",
        "colab": {}
      },
      "source": [
        "visible1 = Input(shape=(n_steps,))\n",
        "dense1 = Dense(70, activation='relu')(visible1)\n",
        "\n",
        "visible2 = Input(shape=(n_steps,))\n",
        "dense2 = Dense(70, activation='relu')(visible2)\n",
        "\n",
        "visible3 = Input(shape=(n_steps,))\n",
        "dense3 = Dense(70, activation='relu')(visible3)\n",
        "\n",
        "visible4 = Input(shape=(n_steps,))\n",
        "dense4 = Dense(70, activation='relu')(visible4)\n",
        "\n",
        "visible5 = Input(shape=(n_steps,))\n",
        "dense5 = Dense(70, activation='relu')(visible5)\n",
        "\n",
        "visible6 = Input(shape=(n_steps,))\n",
        "dense6 = Dense(70, activation='relu')(visible6)\n",
        "\n",
        "visible7 = Input(shape=(n_steps,))\n",
        "dense7 = Dense(70, activation='relu')(visible7)\n",
        "\n",
        "visible8 = Input(shape=(n_steps,))\n",
        "dense8 = Dense(70, activation='relu')(visible8)\n",
        "\n",
        "visible9 = Input(shape=(n_steps,))\n",
        "dense9 = Dense(70, activation='relu')(visible9)\n",
        "\n",
        "visible10 = Input(shape=(n_steps,))\n",
        "dense10 = Dense(70, activation='relu')(visible10)\n",
        "\n",
        "visible11 = Input(shape=(n_steps,))\n",
        "dense11 = Dense(70, activation='relu')(visible11)\n",
        "\n",
        "visible12 = Input(shape=(n_steps,))\n",
        "dense12 = Dense(70, activation='relu')(visible12)\n",
        "\n",
        "visible13 = Input(shape=(n_steps,))\n",
        "dense13 = Dense(70, activation='relu')(visible13)\n",
        "\n",
        "visible14 = Input(shape=(n_steps,))\n",
        "dense14 = Dense(70, activation='relu')(visible14)\n",
        "\n",
        "visible15 = Input(shape=(n_steps,))\n",
        "dense15 = Dense(70, activation='relu')(visible15)\n",
        "\n",
        "visible16 = Input(shape=(n_steps,))\n",
        "dense16 = Dense(70, activation='relu')(visible16)\n",
        "\n",
        "visible17 = Input(shape=(n_steps,))\n",
        "dense17 = Dense(70, activation='relu')(visible17)\n",
        "\n",
        "visible18 = Input(shape=(n_steps,))\n",
        "dense18 = Dense(70, activation='relu')(visible18)\n",
        "\n",
        "visible19 = Input(shape=(n_steps,))\n",
        "dense19 = Dense(70, activation='relu')(visible19)\n",
        "\n",
        "visible20 = Input(shape=(n_steps,))\n",
        "dense20 = Dense(70, activation='relu')(visible20)\n",
        "\n",
        "merge = concatenate([dense1, dense2, dense3, dense4, dense5, dense6, dense7,dense8, dense9, dense10, dense11, dense12, dense13, dense14, dense15, dense16, dense17, dense18, dense19, dense20])\n",
        "output = Dense(1)(merge)\n",
        "\n",
        "model = Model(inputs=[visible1, visible2, visible3, visible4, visible5,visible6, visible7, visible8, visible9, visible10, visible11, visible12,visible13, visible14,visible15, visible16, visible17, visible18, visible19, visible20], outputs=output)\n",
        "model.compile(optimizer=opt, loss='mse')\n",
        "\n",
        "\n",
        "\n"
      ],
      "execution_count": 0,
      "outputs": []
    },
    {
      "cell_type": "code",
      "metadata": {
        "id": "xq_lBB5aJX8U",
        "colab_type": "code",
        "outputId": "c40b3efb-b283-45f4-e8ed-aac173aecfab",
        "colab": {}
      },
      "source": [
        "history = model.fit([X1, X2, X3, X4, X5, X6,X7, X8, X9, X10, X11, X12, X13,X14,X15, X16, X17, X18, X19, X20], y_train, epochs=60, verbose=1,batch_size=5, validation_data=([AX1, AX2, AX3, AX4, AX5, AX6,AX7, AX8, AX9, AX10, AX11, AX12, AX13,AX14,AX15, AX16, AX17, AX18, AX19, AX20], y_test) )\n"
      ],
      "execution_count": 0,
      "outputs": [
        {
          "output_type": "stream",
          "text": [
            "Train on 1249 samples, validate on 313 samples\n",
            "Epoch 1/60\n",
            "1249/1249 [==============================] - 10s 8ms/step - loss: 0.0062 - val_loss: 0.0068\n",
            "Epoch 2/60\n",
            "1249/1249 [==============================] - 4s 3ms/step - loss: 0.0043 - val_loss: 0.0066\n",
            "Epoch 3/60\n",
            "1249/1249 [==============================] - 4s 3ms/step - loss: 0.0038 - val_loss: 0.0066\n",
            "Epoch 4/60\n",
            "1249/1249 [==============================] - 4s 3ms/step - loss: 0.0039 - val_loss: 0.0068\n",
            "Epoch 5/60\n",
            "1249/1249 [==============================] - 4s 3ms/step - loss: 0.0049 - val_loss: 0.0067\n",
            "Epoch 6/60\n",
            "1249/1249 [==============================] - 3s 3ms/step - loss: 0.0043 - val_loss: 0.0080\n",
            "Epoch 7/60\n",
            "1249/1249 [==============================] - 3s 2ms/step - loss: 0.0042 - val_loss: 0.0066\n",
            "Epoch 8/60\n",
            "1249/1249 [==============================] - 4s 3ms/step - loss: 0.0036 - val_loss: 0.0064\n",
            "Epoch 9/60\n",
            "1249/1249 [==============================] - 4s 3ms/step - loss: 0.0034 - val_loss: 0.0065\n",
            "Epoch 10/60\n",
            "1249/1249 [==============================] - 4s 3ms/step - loss: 0.0036 - val_loss: 0.0077\n",
            "Epoch 11/60\n",
            "1249/1249 [==============================] - 4s 3ms/step - loss: 0.0037 - val_loss: 0.0076\n",
            "Epoch 12/60\n",
            "1249/1249 [==============================] - 4s 3ms/step - loss: 0.0033 - val_loss: 0.0069\n",
            "Epoch 13/60\n",
            "1249/1249 [==============================] - 3s 3ms/step - loss: 0.0031 - val_loss: 0.0064\n",
            "Epoch 14/60\n",
            "1249/1249 [==============================] - 3s 3ms/step - loss: 0.0030 - val_loss: 0.0068\n",
            "Epoch 15/60\n",
            "1249/1249 [==============================] - 3s 3ms/step - loss: 0.0033 - val_loss: 0.0075\n",
            "Epoch 16/60\n",
            "1249/1249 [==============================] - 3s 3ms/step - loss: 0.0035 - val_loss: 0.0072\n",
            "Epoch 17/60\n",
            "1249/1249 [==============================] - 4s 3ms/step - loss: 0.0032 - val_loss: 0.0068\n",
            "Epoch 18/60\n",
            "1249/1249 [==============================] - 3s 3ms/step - loss: 0.0031 - val_loss: 0.0077\n",
            "Epoch 19/60\n",
            "1249/1249 [==============================] - 3s 2ms/step - loss: 0.0031 - val_loss: 0.0068\n",
            "Epoch 20/60\n",
            "1249/1249 [==============================] - 4s 3ms/step - loss: 0.0029 - val_loss: 0.0066\n",
            "Epoch 21/60\n",
            "1249/1249 [==============================] - 4s 3ms/step - loss: 0.0029 - val_loss: 0.0067\n",
            "Epoch 22/60\n",
            "1249/1249 [==============================] - 4s 3ms/step - loss: 0.0032 - val_loss: 0.0068\n",
            "Epoch 23/60\n",
            "1249/1249 [==============================] - 4s 3ms/step - loss: 0.0028 - val_loss: 0.0069\n",
            "Epoch 24/60\n",
            "1249/1249 [==============================] - 4s 3ms/step - loss: 0.0028 - val_loss: 0.0071\n",
            "Epoch 25/60\n",
            "1249/1249 [==============================] - 4s 3ms/step - loss: 0.0027 - val_loss: 0.0069\n",
            "Epoch 26/60\n",
            "1249/1249 [==============================] - 4s 3ms/step - loss: 0.0026 - val_loss: 0.0071\n",
            "Epoch 27/60\n",
            "1249/1249 [==============================] - 4s 3ms/step - loss: 0.0026 - val_loss: 0.0070\n",
            "Epoch 28/60\n",
            "1249/1249 [==============================] - 3s 3ms/step - loss: 0.0024 - val_loss: 0.0071\n",
            "Epoch 29/60\n",
            "1249/1249 [==============================] - 3s 3ms/step - loss: 0.0025 - val_loss: 0.0070\n",
            "Epoch 30/60\n",
            "1249/1249 [==============================] - 3s 3ms/step - loss: 0.0026 - val_loss: 0.0072\n",
            "Epoch 31/60\n",
            "1249/1249 [==============================] - 4s 3ms/step - loss: 0.0025 - val_loss: 0.0071\n",
            "Epoch 32/60\n",
            "1249/1249 [==============================] - 4s 3ms/step - loss: 0.0026 - val_loss: 0.0070\n",
            "Epoch 33/60\n",
            "1249/1249 [==============================] - 3s 2ms/step - loss: 0.0024 - val_loss: 0.0069\n",
            "Epoch 34/60\n",
            "1249/1249 [==============================] - 3s 2ms/step - loss: 0.0024 - val_loss: 0.0070\n",
            "Epoch 35/60\n",
            "1249/1249 [==============================] - 3s 3ms/step - loss: 0.0023 - val_loss: 0.0071\n",
            "Epoch 36/60\n",
            "1249/1249 [==============================] - 4s 3ms/step - loss: 0.0023 - val_loss: 0.0078\n",
            "Epoch 37/60\n",
            "1249/1249 [==============================] - 3s 2ms/step - loss: 0.0023 - val_loss: 0.0073\n",
            "Epoch 38/60\n",
            "1249/1249 [==============================] - 3s 2ms/step - loss: 0.0023 - val_loss: 0.0079\n",
            "Epoch 39/60\n",
            "1249/1249 [==============================] - 3s 2ms/step - loss: 0.0022 - val_loss: 0.0075\n",
            "Epoch 40/60\n",
            "1249/1249 [==============================] - 3s 3ms/step - loss: 0.0022 - val_loss: 0.0072\n",
            "Epoch 41/60\n",
            "1249/1249 [==============================] - 3s 3ms/step - loss: 0.0022 - val_loss: 0.0074\n",
            "Epoch 42/60\n",
            "1249/1249 [==============================] - 3s 2ms/step - loss: 0.0021 - val_loss: 0.0073\n",
            "Epoch 43/60\n",
            "1249/1249 [==============================] - 4s 3ms/step - loss: 0.0022 - val_loss: 0.0074\n",
            "Epoch 44/60\n",
            "1249/1249 [==============================] - 3s 3ms/step - loss: 0.0020 - val_loss: 0.0079\n",
            "Epoch 45/60\n",
            "1249/1249 [==============================] - 3s 3ms/step - loss: 0.0021 - val_loss: 0.0074\n",
            "Epoch 46/60\n",
            "1249/1249 [==============================] - 4s 3ms/step - loss: 0.0021 - val_loss: 0.0073\n",
            "Epoch 47/60\n",
            "1249/1249 [==============================] - 3s 2ms/step - loss: 0.0022 - val_loss: 0.0076\n",
            "Epoch 48/60\n",
            "1249/1249 [==============================] - 3s 2ms/step - loss: 0.0023 - val_loss: 0.0074\n",
            "Epoch 49/60\n",
            "1249/1249 [==============================] - 3s 3ms/step - loss: 0.0022 - val_loss: 0.0077\n",
            "Epoch 50/60\n",
            "1249/1249 [==============================] - 3s 3ms/step - loss: 0.0022 - val_loss: 0.0073\n",
            "Epoch 51/60\n",
            "1249/1249 [==============================] - 3s 3ms/step - loss: 0.0019 - val_loss: 0.0074\n",
            "Epoch 52/60\n",
            "1249/1249 [==============================] - 3s 3ms/step - loss: 0.0018 - val_loss: 0.0077\n",
            "Epoch 53/60\n",
            "1249/1249 [==============================] - 3s 2ms/step - loss: 0.0019 - val_loss: 0.0076\n",
            "Epoch 54/60\n",
            "1249/1249 [==============================] - 4s 3ms/step - loss: 0.0020 - val_loss: 0.0078\n",
            "Epoch 55/60\n",
            "1249/1249 [==============================] - 3s 3ms/step - loss: 0.0020 - val_loss: 0.0085\n",
            "Epoch 56/60\n",
            "1249/1249 [==============================] - 3s 3ms/step - loss: 0.0019 - val_loss: 0.0078\n",
            "Epoch 57/60\n",
            "1249/1249 [==============================] - 3s 2ms/step - loss: 0.0019 - val_loss: 0.0078\n",
            "Epoch 58/60\n",
            "1249/1249 [==============================] - 3s 2ms/step - loss: 0.0018 - val_loss: 0.0079\n",
            "Epoch 59/60\n",
            "1249/1249 [==============================] - 3s 3ms/step - loss: 0.0017 - val_loss: 0.0076\n",
            "Epoch 60/60\n",
            "1249/1249 [==============================] - 3s 3ms/step - loss: 0.0017 - val_loss: 0.0077\n"
          ],
          "name": "stdout"
        }
      ]
    },
    {
      "cell_type": "code",
      "metadata": {
        "id": "6RUHdHPvJX8f",
        "colab_type": "code",
        "colab": {}
      },
      "source": [
        ""
      ],
      "execution_count": 0,
      "outputs": []
    },
    {
      "cell_type": "code",
      "metadata": {
        "id": "4E7SvZN3JX8r",
        "colab_type": "code",
        "colab": {}
      },
      "source": [
        "y_train_pred = model.predict([X1, X2, X3, X4, X5, X6,X7, X8, X9, X10, X11, X12, X13,X14,X15, X16, X17, X18, X19, X20])\n"
      ],
      "execution_count": 0,
      "outputs": []
    },
    {
      "cell_type": "code",
      "metadata": {
        "id": "Ap4cY9VZJX81",
        "colab_type": "code",
        "colab": {}
      },
      "source": [
        "y_test_pred = model.predict([AX1, AX2, AX3, AX4, AX5, AX6,AX7, AX8, AX9, AX10, AX11, AX12, AX13,AX14,AX15, AX16, AX17, AX18, AX19, AX20])"
      ],
      "execution_count": 0,
      "outputs": []
    },
    {
      "cell_type": "code",
      "metadata": {
        "id": "j7kGYKSyJX9J",
        "colab_type": "code",
        "colab": {}
      },
      "source": [
        ""
      ],
      "execution_count": 0,
      "outputs": []
    },
    {
      "cell_type": "code",
      "metadata": {
        "id": "rWSJwQGFJX9P",
        "colab_type": "code",
        "outputId": "296875d5-8c0f-46c4-cd37-776bdaa85d08",
        "colab": {}
      },
      "source": [
        "%matplotlib inline\n",
        "plt.scatter(range(len(y_test_pred)),y_test_pred,c ='r')\n",
        "plt.scatter(range(len(y_test)),y_test,c='g')\n",
        "plt.show()"
      ],
      "execution_count": 0,
      "outputs": [
        {
          "output_type": "display_data",
          "data": {
            "image/png": "[encoded data removed]",
            "text/plain": [
              "<matplotlib.figure.Figure at 0x29a2796cac8>"
            ]
          },
          "metadata": {
            "tags": []
          }
        }
      ]
    },
    {
      "cell_type": "code",
      "metadata": {
        "id": "2YD7BOipJX9n",
        "colab_type": "code",
        "outputId": "611cecad-99f7-48bf-80ed-edbbb8b16c21",
        "colab": {}
      },
      "source": [
        "from sklearn.metrics import mean_squared_error\n",
        "err = mean_squared_error(y_test, y_test_pred)\n",
        "print('Mean_Square_Error :')\n",
        "print(err)\n",
        "serr = np.sqrt(err)\n",
        "print('Root_Mean_Square_Error :')\n",
        "print(serr)"
      ],
      "execution_count": 0,
      "outputs": [
        {
          "output_type": "stream",
          "text": [
            "Mean_Square_Error :\n",
            "0.00447702580836\n",
            "Root_Mean_Square_Error :\n",
            "0.0669105806906\n"
          ],
          "name": "stdout"
        }
      ]
    },
    {
      "cell_type": "code",
      "metadata": {
        "id": "hMDYsze_JX97",
        "colab_type": "code",
        "colab": {}
      },
      "source": [
        "max1 = data2.max()\n",
        "min1 = data2.min()\n",
        "\n"
      ],
      "execution_count": 0,
      "outputs": []
    },
    {
      "cell_type": "code",
      "metadata": {
        "id": "i4rI5A9FJX-B",
        "colab_type": "code",
        "colab": {}
      },
      "source": [
        "y_test_scaled = (max1-min1)*(y_test) + min1\n",
        "y_test_scaled_pred = (max1-min1)*(y_test_pred) + min1"
      ],
      "execution_count": 0,
      "outputs": []
    },
    {
      "cell_type": "code",
      "metadata": {
        "id": "42iEynGTJX-F",
        "colab_type": "code",
        "colab": {}
      },
      "source": [
        "y_test_pred = y_test_pred.reshape(len(y_test_pred),)\n",
        "y_test_scaled_pred = y_test_scaled_pred.reshape(len(y_test_scaled_pred),)\n"
      ],
      "execution_count": 0,
      "outputs": []
    },
    {
      "cell_type": "code",
      "metadata": {
        "id": "-rUKaY4UJX-L",
        "colab_type": "code",
        "outputId": "d0d70628-c5d8-4313-dccd-6ac29754ff8b",
        "colab": {}
      },
      "source": [
        "print(y_test_pred.shape)\n",
        "print(y_test.shape)\n",
        "print(y_test_scaled.shape)\n",
        "print(y_test_scaled_pred.shape)"
      ],
      "execution_count": 0,
      "outputs": [
        {
          "output_type": "stream",
          "text": [
            "(313,)\n",
            "(313,)\n",
            "(313,)\n",
            "(313,)\n"
          ],
          "name": "stdout"
        }
      ]
    },
    {
      "cell_type": "code",
      "metadata": {
        "id": "89N7JQtNJX-W",
        "colab_type": "code",
        "colab": {}
      },
      "source": [
        "resultD = pd.DataFrame({'y_test': y_test, 'y_test_pred': y_test_pred, 'y_test_scaled':y_test_scaled,'y_test_scaled_pred':y_test_scaled_pred}, columns=['y_test', 'y_test_pred','y_test_scaled','y_test_scaled_pred'])"
      ],
      "execution_count": 0,
      "outputs": []
    },
    {
      "cell_type": "code",
      "metadata": {
        "id": "_udURnw9JX-g",
        "colab_type": "code",
        "outputId": "1beea91b-85a9-4422-fe04-6d1e09adac6a",
        "colab": {}
      },
      "source": [
        "resultD"
      ],
      "execution_count": 0,
      "outputs": [
        {
          "output_type": "execute_result",
          "data": {
            "text/html": [
              "<div>\n",
              "<style>\n",
              "    .dataframe thead tr:only-child th {\n",
              "        text-align: right;\n",
              "    }\n",
              "\n",
              "    .dataframe thead th {\n",
              "        text-align: left;\n",
              "    }\n",
              "\n",
              "    .dataframe tbody tr th {\n",
              "        vertical-align: top;\n",
              "    }\n",
              "</style>\n",
              "<table border=\"1\" class=\"dataframe\">\n",
              "  <thead>\n",
              "    <tr style=\"text-align: right;\">\n",
              "      <th></th>\n",
              "      <th>y_test</th>\n",
              "      <th>y_test_pred</th>\n",
              "      <th>y_test_scaled</th>\n",
              "      <th>y_test_scaled_pred</th>\n",
              "    </tr>\n",
              "  </thead>\n",
              "  <tbody>\n",
              "    <tr>\n",
              "      <th>0</th>\n",
              "      <td>0.180674</td>\n",
              "      <td>0.224259</td>\n",
              "      <td>479.395863</td>\n",
              "      <td>545.565430</td>\n",
              "    </tr>\n",
              "    <tr>\n",
              "      <th>1</th>\n",
              "      <td>0.153196</td>\n",
              "      <td>0.185941</td>\n",
              "      <td>437.679669</td>\n",
              "      <td>487.391785</td>\n",
              "    </tr>\n",
              "    <tr>\n",
              "      <th>2</th>\n",
              "      <td>0.148308</td>\n",
              "      <td>0.223037</td>\n",
              "      <td>430.257663</td>\n",
              "      <td>543.709778</td>\n",
              "    </tr>\n",
              "    <tr>\n",
              "      <th>3</th>\n",
              "      <td>0.127999</td>\n",
              "      <td>0.189010</td>\n",
              "      <td>399.425370</td>\n",
              "      <td>492.051392</td>\n",
              "    </tr>\n",
              "    <tr>\n",
              "      <th>4</th>\n",
              "      <td>0.226466</td>\n",
              "      <td>0.157629</td>\n",
              "      <td>548.915654</td>\n",
              "      <td>444.409424</td>\n",
              "    </tr>\n",
              "    <tr>\n",
              "      <th>5</th>\n",
              "      <td>0.175009</td>\n",
              "      <td>0.187949</td>\n",
              "      <td>470.794822</td>\n",
              "      <td>490.440613</td>\n",
              "    </tr>\n",
              "    <tr>\n",
              "      <th>6</th>\n",
              "      <td>0.173134</td>\n",
              "      <td>0.133369</td>\n",
              "      <td>467.949183</td>\n",
              "      <td>407.578613</td>\n",
              "    </tr>\n",
              "    <tr>\n",
              "      <th>7</th>\n",
              "      <td>0.170253</td>\n",
              "      <td>0.221067</td>\n",
              "      <td>463.574626</td>\n",
              "      <td>540.719788</td>\n",
              "    </tr>\n",
              "    <tr>\n",
              "      <th>8</th>\n",
              "      <td>0.118373</td>\n",
              "      <td>0.172800</td>\n",
              "      <td>384.811803</td>\n",
              "      <td>467.441956</td>\n",
              "    </tr>\n",
              "    <tr>\n",
              "      <th>9</th>\n",
              "      <td>0.193713</td>\n",
              "      <td>0.126063</td>\n",
              "      <td>499.191626</td>\n",
              "      <td>396.486328</td>\n",
              "    </tr>\n",
              "    <tr>\n",
              "      <th>10</th>\n",
              "      <td>0.141747</td>\n",
              "      <td>0.179517</td>\n",
              "      <td>420.297639</td>\n",
              "      <td>477.638733</td>\n",
              "    </tr>\n",
              "    <tr>\n",
              "      <th>11</th>\n",
              "      <td>0.162176</td>\n",
              "      <td>0.184766</td>\n",
              "      <td>451.312003</td>\n",
              "      <td>485.607666</td>\n",
              "    </tr>\n",
              "    <tr>\n",
              "      <th>12</th>\n",
              "      <td>0.258870</td>\n",
              "      <td>0.252593</td>\n",
              "      <td>598.111524</td>\n",
              "      <td>588.581726</td>\n",
              "    </tr>\n",
              "    <tr>\n",
              "      <th>13</th>\n",
              "      <td>0.188266</td>\n",
              "      <td>0.202800</td>\n",
              "      <td>490.921454</td>\n",
              "      <td>512.986694</td>\n",
              "    </tr>\n",
              "    <tr>\n",
              "      <th>14</th>\n",
              "      <td>0.235152</td>\n",
              "      <td>0.201427</td>\n",
              "      <td>562.102958</td>\n",
              "      <td>510.902710</td>\n",
              "    </tr>\n",
              "    <tr>\n",
              "      <th>15</th>\n",
              "      <td>0.109751</td>\n",
              "      <td>0.138435</td>\n",
              "      <td>371.721325</td>\n",
              "      <td>415.269714</td>\n",
              "    </tr>\n",
              "    <tr>\n",
              "      <th>16</th>\n",
              "      <td>0.106374</td>\n",
              "      <td>0.137835</td>\n",
              "      <td>366.594768</td>\n",
              "      <td>414.357605</td>\n",
              "    </tr>\n",
              "    <tr>\n",
              "      <th>17</th>\n",
              "      <td>0.116219</td>\n",
              "      <td>0.193802</td>\n",
              "      <td>381.541693</td>\n",
              "      <td>499.325745</td>\n",
              "    </tr>\n",
              "    <tr>\n",
              "      <th>18</th>\n",
              "      <td>0.206219</td>\n",
              "      <td>0.197837</td>\n",
              "      <td>518.177626</td>\n",
              "      <td>505.452454</td>\n",
              "    </tr>\n",
              "    <tr>\n",
              "      <th>19</th>\n",
              "      <td>0.196506</td>\n",
              "      <td>0.206431</td>\n",
              "      <td>503.431623</td>\n",
              "      <td>518.499756</td>\n",
              "    </tr>\n",
              "    <tr>\n",
              "      <th>20</th>\n",
              "      <td>0.221175</td>\n",
              "      <td>0.227997</td>\n",
              "      <td>540.884008</td>\n",
              "      <td>551.240173</td>\n",
              "    </tr>\n",
              "    <tr>\n",
              "      <th>21</th>\n",
              "      <td>0.137482</td>\n",
              "      <td>0.170373</td>\n",
              "      <td>413.822629</td>\n",
              "      <td>463.757568</td>\n",
              "    </tr>\n",
              "    <tr>\n",
              "      <th>22</th>\n",
              "      <td>0.178100</td>\n",
              "      <td>0.175454</td>\n",
              "      <td>475.487817</td>\n",
              "      <td>471.470459</td>\n",
              "    </tr>\n",
              "    <tr>\n",
              "      <th>23</th>\n",
              "      <td>0.291946</td>\n",
              "      <td>0.096615</td>\n",
              "      <td>648.327119</td>\n",
              "      <td>351.778687</td>\n",
              "    </tr>\n",
              "    <tr>\n",
              "      <th>24</th>\n",
              "      <td>0.221498</td>\n",
              "      <td>0.162746</td>\n",
              "      <td>541.374030</td>\n",
              "      <td>452.177002</td>\n",
              "    </tr>\n",
              "    <tr>\n",
              "      <th>25</th>\n",
              "      <td>0.137219</td>\n",
              "      <td>0.146706</td>\n",
              "      <td>413.423508</td>\n",
              "      <td>427.826416</td>\n",
              "    </tr>\n",
              "    <tr>\n",
              "      <th>26</th>\n",
              "      <td>0.224992</td>\n",
              "      <td>0.228962</td>\n",
              "      <td>546.679133</td>\n",
              "      <td>552.705383</td>\n",
              "    </tr>\n",
              "    <tr>\n",
              "      <th>27</th>\n",
              "      <td>0.167976</td>\n",
              "      <td>0.181365</td>\n",
              "      <td>460.117631</td>\n",
              "      <td>480.444763</td>\n",
              "    </tr>\n",
              "    <tr>\n",
              "      <th>28</th>\n",
              "      <td>0.215959</td>\n",
              "      <td>0.193148</td>\n",
              "      <td>532.964277</td>\n",
              "      <td>498.333679</td>\n",
              "    </tr>\n",
              "    <tr>\n",
              "      <th>29</th>\n",
              "      <td>0.197670</td>\n",
              "      <td>0.147291</td>\n",
              "      <td>505.198859</td>\n",
              "      <td>428.713501</td>\n",
              "    </tr>\n",
              "    <tr>\n",
              "      <th>...</th>\n",
              "      <td>...</td>\n",
              "      <td>...</td>\n",
              "      <td>...</td>\n",
              "      <td>...</td>\n",
              "    </tr>\n",
              "    <tr>\n",
              "      <th>283</th>\n",
              "      <td>0.214904</td>\n",
              "      <td>0.149523</td>\n",
              "      <td>531.362686</td>\n",
              "      <td>432.102325</td>\n",
              "    </tr>\n",
              "    <tr>\n",
              "      <th>284</th>\n",
              "      <td>0.404763</td>\n",
              "      <td>0.194927</td>\n",
              "      <td>819.604223</td>\n",
              "      <td>501.033813</td>\n",
              "    </tr>\n",
              "    <tr>\n",
              "      <th>285</th>\n",
              "      <td>0.192066</td>\n",
              "      <td>0.164883</td>\n",
              "      <td>496.690776</td>\n",
              "      <td>455.422119</td>\n",
              "    </tr>\n",
              "    <tr>\n",
              "      <th>286</th>\n",
              "      <td>0.141983</td>\n",
              "      <td>0.186426</td>\n",
              "      <td>420.655919</td>\n",
              "      <td>488.127930</td>\n",
              "    </tr>\n",
              "    <tr>\n",
              "      <th>287</th>\n",
              "      <td>0.166080</td>\n",
              "      <td>0.191283</td>\n",
              "      <td>457.238781</td>\n",
              "      <td>495.502014</td>\n",
              "    </tr>\n",
              "    <tr>\n",
              "      <th>288</th>\n",
              "      <td>0.147262</td>\n",
              "      <td>0.174166</td>\n",
              "      <td>428.669455</td>\n",
              "      <td>469.514954</td>\n",
              "    </tr>\n",
              "    <tr>\n",
              "      <th>289</th>\n",
              "      <td>0.223134</td>\n",
              "      <td>0.196227</td>\n",
              "      <td>543.857366</td>\n",
              "      <td>503.007324</td>\n",
              "    </tr>\n",
              "    <tr>\n",
              "      <th>290</th>\n",
              "      <td>0.134311</td>\n",
              "      <td>0.182157</td>\n",
              "      <td>409.007853</td>\n",
              "      <td>481.647034</td>\n",
              "    </tr>\n",
              "    <tr>\n",
              "      <th>291</th>\n",
              "      <td>0.151697</td>\n",
              "      <td>0.200816</td>\n",
              "      <td>435.403909</td>\n",
              "      <td>509.975098</td>\n",
              "    </tr>\n",
              "    <tr>\n",
              "      <th>292</th>\n",
              "      <td>0.169075</td>\n",
              "      <td>0.242442</td>\n",
              "      <td>461.786632</td>\n",
              "      <td>573.170166</td>\n",
              "    </tr>\n",
              "    <tr>\n",
              "      <th>293</th>\n",
              "      <td>0.245239</td>\n",
              "      <td>0.200667</td>\n",
              "      <td>577.416507</td>\n",
              "      <td>509.748596</td>\n",
              "    </tr>\n",
              "    <tr>\n",
              "      <th>294</th>\n",
              "      <td>0.252094</td>\n",
              "      <td>0.201278</td>\n",
              "      <td>587.824460</td>\n",
              "      <td>510.676941</td>\n",
              "    </tr>\n",
              "    <tr>\n",
              "      <th>295</th>\n",
              "      <td>0.185515</td>\n",
              "      <td>0.218643</td>\n",
              "      <td>486.744783</td>\n",
              "      <td>537.039062</td>\n",
              "    </tr>\n",
              "    <tr>\n",
              "      <th>296</th>\n",
              "      <td>0.200985</td>\n",
              "      <td>0.163065</td>\n",
              "      <td>510.230787</td>\n",
              "      <td>452.661743</td>\n",
              "    </tr>\n",
              "    <tr>\n",
              "      <th>297</th>\n",
              "      <td>0.200561</td>\n",
              "      <td>0.163821</td>\n",
              "      <td>509.588209</td>\n",
              "      <td>453.810181</td>\n",
              "    </tr>\n",
              "    <tr>\n",
              "      <th>298</th>\n",
              "      <td>0.126460</td>\n",
              "      <td>0.179676</td>\n",
              "      <td>397.088013</td>\n",
              "      <td>477.880188</td>\n",
              "    </tr>\n",
              "    <tr>\n",
              "      <th>299</th>\n",
              "      <td>0.033547</td>\n",
              "      <td>0.242608</td>\n",
              "      <td>256.029732</td>\n",
              "      <td>573.423218</td>\n",
              "    </tr>\n",
              "    <tr>\n",
              "      <th>300</th>\n",
              "      <td>0.237247</td>\n",
              "      <td>0.207787</td>\n",
              "      <td>565.283127</td>\n",
              "      <td>520.558472</td>\n",
              "    </tr>\n",
              "    <tr>\n",
              "      <th>301</th>\n",
              "      <td>0.189847</td>\n",
              "      <td>0.224139</td>\n",
              "      <td>493.321567</td>\n",
              "      <td>545.383118</td>\n",
              "    </tr>\n",
              "    <tr>\n",
              "      <th>302</th>\n",
              "      <td>0.184804</td>\n",
              "      <td>0.228314</td>\n",
              "      <td>485.665082</td>\n",
              "      <td>551.721436</td>\n",
              "    </tr>\n",
              "    <tr>\n",
              "      <th>303</th>\n",
              "      <td>0.281144</td>\n",
              "      <td>0.225637</td>\n",
              "      <td>631.927364</td>\n",
              "      <td>547.658142</td>\n",
              "    </tr>\n",
              "    <tr>\n",
              "      <th>304</th>\n",
              "      <td>0.199265</td>\n",
              "      <td>0.022291</td>\n",
              "      <td>507.620456</td>\n",
              "      <td>238.940796</td>\n",
              "    </tr>\n",
              "    <tr>\n",
              "      <th>305</th>\n",
              "      <td>0.180787</td>\n",
              "      <td>0.146136</td>\n",
              "      <td>479.566751</td>\n",
              "      <td>426.959900</td>\n",
              "    </tr>\n",
              "    <tr>\n",
              "      <th>306</th>\n",
              "      <td>0.220798</td>\n",
              "      <td>0.218663</td>\n",
              "      <td>540.311243</td>\n",
              "      <td>537.070557</td>\n",
              "    </tr>\n",
              "    <tr>\n",
              "      <th>307</th>\n",
              "      <td>0.130566</td>\n",
              "      <td>0.152889</td>\n",
              "      <td>403.322644</td>\n",
              "      <td>437.212708</td>\n",
              "    </tr>\n",
              "    <tr>\n",
              "      <th>308</th>\n",
              "      <td>0.195716</td>\n",
              "      <td>0.190681</td>\n",
              "      <td>502.231683</td>\n",
              "      <td>494.588684</td>\n",
              "    </tr>\n",
              "    <tr>\n",
              "      <th>309</th>\n",
              "      <td>0.111375</td>\n",
              "      <td>0.163458</td>\n",
              "      <td>374.186577</td>\n",
              "      <td>453.258484</td>\n",
              "    </tr>\n",
              "    <tr>\n",
              "      <th>310</th>\n",
              "      <td>0.185345</td>\n",
              "      <td>0.226859</td>\n",
              "      <td>486.487603</td>\n",
              "      <td>549.513428</td>\n",
              "    </tr>\n",
              "    <tr>\n",
              "      <th>311</th>\n",
              "      <td>0.134986</td>\n",
              "      <td>0.171755</td>\n",
              "      <td>410.032816</td>\n",
              "      <td>465.855530</td>\n",
              "    </tr>\n",
              "    <tr>\n",
              "      <th>312</th>\n",
              "      <td>0.173929</td>\n",
              "      <td>0.187322</td>\n",
              "      <td>469.155314</td>\n",
              "      <td>489.487793</td>\n",
              "    </tr>\n",
              "  </tbody>\n",
              "</table>\n",
              "<p>313 rows × 4 columns</p>\n",
              "</div>"
            ],
            "text/plain": [
              "       y_test  y_test_pred  y_test_scaled  y_test_scaled_pred\n",
              "0    0.180674     0.224259     479.395863          545.565430\n",
              "1    0.153196     0.185941     437.679669          487.391785\n",
              "2    0.148308     0.223037     430.257663          543.709778\n",
              "3    0.127999     0.189010     399.425370          492.051392\n",
              "4    0.226466     0.157629     548.915654          444.409424\n",
              "5    0.175009     0.187949     470.794822          490.440613\n",
              "6    0.173134     0.133369     467.949183          407.578613\n",
              "7    0.170253     0.221067     463.574626          540.719788\n",
              "8    0.118373     0.172800     384.811803          467.441956\n",
              "9    0.193713     0.126063     499.191626          396.486328\n",
              "10   0.141747     0.179517     420.297639          477.638733\n",
              "11   0.162176     0.184766     451.312003          485.607666\n",
              "12   0.258870     0.252593     598.111524          588.581726\n",
              "13   0.188266     0.202800     490.921454          512.986694\n",
              "14   0.235152     0.201427     562.102958          510.902710\n",
              "15   0.109751     0.138435     371.721325          415.269714\n",
              "16   0.106374     0.137835     366.594768          414.357605\n",
              "17   0.116219     0.193802     381.541693          499.325745\n",
              "18   0.206219     0.197837     518.177626          505.452454\n",
              "19   0.196506     0.206431     503.431623          518.499756\n",
              "20   0.221175     0.227997     540.884008          551.240173\n",
              "21   0.137482     0.170373     413.822629          463.757568\n",
              "22   0.178100     0.175454     475.487817          471.470459\n",
              "23   0.291946     0.096615     648.327119          351.778687\n",
              "24   0.221498     0.162746     541.374030          452.177002\n",
              "25   0.137219     0.146706     413.423508          427.826416\n",
              "26   0.224992     0.228962     546.679133          552.705383\n",
              "27   0.167976     0.181365     460.117631          480.444763\n",
              "28   0.215959     0.193148     532.964277          498.333679\n",
              "29   0.197670     0.147291     505.198859          428.713501\n",
              "..        ...          ...            ...                 ...\n",
              "283  0.214904     0.149523     531.362686          432.102325\n",
              "284  0.404763     0.194927     819.604223          501.033813\n",
              "285  0.192066     0.164883     496.690776          455.422119\n",
              "286  0.141983     0.186426     420.655919          488.127930\n",
              "287  0.166080     0.191283     457.238781          495.502014\n",
              "288  0.147262     0.174166     428.669455          469.514954\n",
              "289  0.223134     0.196227     543.857366          503.007324\n",
              "290  0.134311     0.182157     409.007853          481.647034\n",
              "291  0.151697     0.200816     435.403909          509.975098\n",
              "292  0.169075     0.242442     461.786632          573.170166\n",
              "293  0.245239     0.200667     577.416507          509.748596\n",
              "294  0.252094     0.201278     587.824460          510.676941\n",
              "295  0.185515     0.218643     486.744783          537.039062\n",
              "296  0.200985     0.163065     510.230787          452.661743\n",
              "297  0.200561     0.163821     509.588209          453.810181\n",
              "298  0.126460     0.179676     397.088013          477.880188\n",
              "299  0.033547     0.242608     256.029732          573.423218\n",
              "300  0.237247     0.207787     565.283127          520.558472\n",
              "301  0.189847     0.224139     493.321567          545.383118\n",
              "302  0.184804     0.228314     485.665082          551.721436\n",
              "303  0.281144     0.225637     631.927364          547.658142\n",
              "304  0.199265     0.022291     507.620456          238.940796\n",
              "305  0.180787     0.146136     479.566751          426.959900\n",
              "306  0.220798     0.218663     540.311243          537.070557\n",
              "307  0.130566     0.152889     403.322644          437.212708\n",
              "308  0.195716     0.190681     502.231683          494.588684\n",
              "309  0.111375     0.163458     374.186577          453.258484\n",
              "310  0.185345     0.226859     486.487603          549.513428\n",
              "311  0.134986     0.171755     410.032816          465.855530\n",
              "312  0.173929     0.187322     469.155314          489.487793\n",
              "\n",
              "[313 rows x 4 columns]"
            ]
          },
          "metadata": {
            "tags": []
          },
          "execution_count": 133
        }
      ]
    },
    {
      "cell_type": "code",
      "metadata": {
        "id": "j4Hqd965JX-4",
        "colab_type": "code",
        "colab": {}
      },
      "source": [
        ""
      ],
      "execution_count": 0,
      "outputs": []
    },
    {
      "cell_type": "code",
      "metadata": {
        "id": "ZKzyg93PJX-7",
        "colab_type": "code",
        "colab": {}
      },
      "source": [
        ""
      ],
      "execution_count": 0,
      "outputs": []
    },
    {
      "cell_type": "code",
      "metadata": {
        "id": "cTP-ONzBJX_B",
        "colab_type": "code",
        "colab": {}
      },
      "source": [
        ""
      ],
      "execution_count": 0,
      "outputs": []
    },
    {
      "cell_type": "code",
      "metadata": {
        "id": "jt0iI0LOJX_F",
        "colab_type": "code",
        "colab": {}
      },
      "source": [
        ""
      ],
      "execution_count": 0,
      "outputs": []
    },
    {
      "cell_type": "code",
      "metadata": {
        "id": "jpUg8TqqJX_I",
        "colab_type": "code",
        "colab": {}
      },
      "source": [
        ""
      ],
      "execution_count": 0,
      "outputs": []
    },
    {
      "cell_type": "code",
      "metadata": {
        "scrolled": false,
        "id": "a9qKPBX-JX_K",
        "colab_type": "code",
        "colab": {}
      },
      "source": [
        ""
      ],
      "execution_count": 0,
      "outputs": []
    },
    {
      "cell_type": "code",
      "metadata": {
        "id": "pHqIBl1FJX_O",
        "colab_type": "code",
        "colab": {}
      },
      "source": [
        ""
      ],
      "execution_count": 0,
      "outputs": []
    },
    {
      "cell_type": "code",
      "metadata": {
        "id": "AKfBUAVrJX_T",
        "colab_type": "code",
        "colab": {}
      },
      "source": [
        ""
      ],
      "execution_count": 0,
      "outputs": []
    }
  ]
}