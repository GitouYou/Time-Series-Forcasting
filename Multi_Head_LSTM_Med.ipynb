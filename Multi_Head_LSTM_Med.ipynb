{
 "cells": [
  {
   "cell_type": "code",
   "execution_count": 1,
   "metadata": {
    "collapsed": true
   },
   "outputs": [],
   "source": [
    "import numpy as np\n",
    "import pandas as pd\n",
    "import matplotlib.pyplot as plt\n",
    "%matplotlib inline"
   ]
  },
  {
   "cell_type": "code",
   "execution_count": 2,
   "metadata": {
    "collapsed": true
   },
   "outputs": [],
   "source": [
    "df = pd.read_csv('Work_with_Ambuj.csv')\n",
    "df.set_index('Date', inplace = True)\n",
    "df.index = pd.to_datetime(df.index)"
   ]
  },
  {
   "cell_type": "code",
   "execution_count": 3,
   "metadata": {
    "collapsed": true
   },
   "outputs": [],
   "source": [
    "mn = df.min()\n",
    "mx = df.max()\n",
    "dataset = (df-mn)/(mx-mn)\n",
    "dataset = dataset.as_matrix()"
   ]
  },
  {
   "cell_type": "code",
   "execution_count": 4,
   "metadata": {},
   "outputs": [
    {
     "name": "stderr",
     "output_type": "stream",
     "text": [
      "Using TensorFlow backend.\n"
     ]
    }
   ],
   "source": [
    "from numpy import array\n",
    "from keras.layers import LSTM\n",
    "from keras.models import Model\n",
    "from keras.layers import Input\n",
    "from keras.layers import Dense\n",
    "from keras.layers import Flatten\n",
    "\n",
    "from keras.layers.merge import concatenate\n",
    "from sklearn.metrics import r2_score\n",
    "from keras.layers import Dropout"
   ]
  },
  {
   "cell_type": "code",
   "execution_count": 26,
   "metadata": {
    "collapsed": true
   },
   "outputs": [],
   "source": [
    "from keras.utils import plot_model\n",
    "from sklearn.metrics import mean_squared_error\n",
    "from keras.models import load_model\n",
    "from scipy import stats\n",
    "import csv as csv\n",
    "\n",
    "import copy\n"
   ]
  },
  {
   "cell_type": "code",
   "execution_count": 5,
   "metadata": {
    "collapsed": true
   },
   "outputs": [],
   "source": [
    "def split_sequences(sequences, n_steps):\n",
    "    X, y = list(), list()\n",
    "    for i in range(len(sequences)):\n",
    "# find the end of this pattern\n",
    "        end_ix = i + n_steps\n",
    "# check if we are beyond the dataset\n",
    "        if end_ix > len(sequences):\n",
    "            break\n",
    "# gather input and output parts of the pattern\n",
    "        seq_x, seq_y = sequences[i:end_ix, :-1], sequences[end_ix-1, -1]\n",
    "        X.append(seq_x)\n",
    "        y.append(seq_y)\n",
    "    return array(X), array(y)"
   ]
  },
  {
   "cell_type": "code",
   "execution_count": 6,
   "metadata": {},
   "outputs": [
    {
     "name": "stdout",
     "output_type": "stream",
     "text": [
      "(1563, 3, 20) (1563,)\n"
     ]
    }
   ],
   "source": [
    "n_steps = 3\n",
    "# convert into input/output\n",
    "X, y = split_sequences(dataset, n_steps)\n",
    "print(X.shape, y.shape)"
   ]
  },
  {
   "cell_type": "code",
   "execution_count": 7,
   "metadata": {},
   "outputs": [
    {
     "name": "stdout",
     "output_type": "stream",
     "text": [
      "(1304, 3, 20)\n",
      "(1304,)\n",
      "(259, 3, 20)\n",
      "(259,)\n"
     ]
    }
   ],
   "source": [
    "x_train = X[:1304]\n",
    "y_train = y[:1304]\n",
    "x_test = X[1304:]\n",
    "y_test = y[1304:]\n",
    "print(x_train.shape)\n",
    "print(y_train.shape)\n",
    "print(x_test.shape)\n",
    "print(y_test.shape)"
   ]
  },
  {
   "cell_type": "code",
   "execution_count": 34,
   "metadata": {},
   "outputs": [
    {
     "data": {
      "text/plain": [
       "(1304, 3, 1)"
      ]
     },
     "execution_count": 34,
     "metadata": {},
     "output_type": "execute_result"
    }
   ],
   "source": [
    "n_features = 1\n",
    "X1.shape"
   ]
  },
  {
   "cell_type": "code",
   "execution_count": 9,
   "metadata": {
    "collapsed": true
   },
   "outputs": [],
   "source": [
    "\n",
    "# separate input data\n",
    "X1 = x_train[:, :, 0].reshape(x_train.shape[0], x_train.shape[1], n_features)\n",
    "X2 = x_train[:, :, 1].reshape(x_train.shape[0], x_train.shape[1], n_features)\n",
    "X3 = x_train[:, :, 2].reshape(x_train.shape[0], x_train.shape[1], n_features)\n",
    "X4 = x_train[:, :, 3].reshape(x_train.shape[0], x_train.shape[1], n_features)\n",
    "X5 = x_train[:, :, 4].reshape(x_train.shape[0], x_train.shape[1], n_features)\n",
    "X6 = x_train[:, :, 5].reshape(x_train.shape[0], x_train.shape[1], n_features)\n",
    "X7 = x_train[:, :, 6].reshape(x_train.shape[0], x_train.shape[1], n_features)\n",
    "\n",
    "X8 = x_train[:, :, 7].reshape(x_train.shape[0], x_train.shape[1], n_features)\n",
    "X9 = x_train[:, :, 8].reshape(x_train.shape[0], x_train.shape[1], n_features)\n",
    "X10 = x_train[:, :, 9].reshape(x_train.shape[0], x_train.shape[1], n_features)\n",
    "X11 = x_train[:, :, 10].reshape(x_train.shape[0], x_train.shape[1], n_features)\n",
    "X12 = x_train[:, :, 11].reshape(x_train.shape[0], x_train.shape[1], n_features)\n",
    "X13 = x_train[:, :, 12].reshape(x_train.shape[0], x_train.shape[1], n_features)\n",
    "X14 = x_train[:, :, 13].reshape(x_train.shape[0], x_train.shape[1], n_features)\n",
    "X15 = x_train[:, :, 14].reshape(x_train.shape[0], x_train.shape[1], n_features)\n",
    "X16 = x_train[:, :, 15].reshape(x_train.shape[0], x_train.shape[1], n_features)\n",
    "X17 = x_train[:, :, 16].reshape(x_train.shape[0], x_train.shape[1], n_features)\n",
    "X18 = x_train[:, :, 17].reshape(x_train.shape[0], x_train.shape[1], n_features)\n",
    "\n",
    "X19 = x_train[:, :, 18].reshape(x_train.shape[0], x_train.shape[1], n_features)\n",
    "X20 = x_train[:, :, 19].reshape(x_train.shape[0], x_train.shape[1], n_features)"
   ]
  },
  {
   "cell_type": "code",
   "execution_count": 10,
   "metadata": {
    "collapsed": true
   },
   "outputs": [],
   "source": [
    "AX1 = x_test[:, :, 0].reshape(x_test.shape[0], x_test.shape[1], n_features)\n",
    "AX2 = x_test[:, :, 1].reshape(x_test.shape[0], x_test.shape[1], n_features)\n",
    "AX3 = x_test[:, :, 2].reshape(x_test.shape[0], x_test.shape[1], n_features)\n",
    "AX4 = x_test[:, :, 3].reshape(x_test.shape[0], x_test.shape[1], n_features)\n",
    "AX5 = x_test[:, :, 4].reshape(x_test.shape[0], x_test.shape[1], n_features)\n",
    "AX6 = x_test[:, :, 5].reshape(x_test.shape[0], x_test.shape[1], n_features)\n",
    "AX7 = x_test[:, :, 6].reshape(x_test.shape[0], x_test.shape[1], n_features)\n",
    "\n",
    "AX8 = x_test[:, :, 7].reshape(x_test.shape[0], x_test.shape[1], n_features)\n",
    "AX9 = x_test[:, :, 8].reshape(x_test.shape[0], x_test.shape[1], n_features)\n",
    "AX10 = x_test[:, :, 9].reshape(x_test.shape[0], x_test.shape[1], n_features)\n",
    "AX11 = x_test[:, :, 10].reshape(x_test.shape[0], x_test.shape[1], n_features)\n",
    "AX12 = x_test[:, :, 11].reshape(x_test.shape[0], x_test.shape[1], n_features)\n",
    "AX13 = x_test[:, :, 12].reshape(x_test.shape[0], x_test.shape[1], n_features)\n",
    "AX14 = x_test[:, :, 13].reshape(x_test.shape[0], x_test.shape[1], n_features)\n",
    "\n",
    "AX15 = x_test[:, :, 14].reshape(x_test.shape[0], x_test.shape[1], n_features)\n",
    "AX16 = x_test[:, :, 15].reshape(x_test.shape[0], x_test.shape[1], n_features)\n",
    "AX17 = x_test[:, :, 16].reshape(x_test.shape[0], x_test.shape[1], n_features)\n",
    "AX18 = x_test[:, :, 17].reshape(x_test.shape[0], x_test.shape[1], n_features)\n",
    "AX19 = x_test[:, :, 18].reshape(x_test.shape[0], x_test.shape[1], n_features)\n",
    "AX20 = x_test[:, :, 19].reshape(x_test.shape[0], x_test.shape[1], n_features)\n",
    "\n",
    "\n"
   ]
  },
  {
   "cell_type": "code",
   "execution_count": 18,
   "metadata": {},
   "outputs": [
    {
     "name": "stdout",
     "output_type": "stream",
     "text": [
      "(1304, 3, 1) (259, 3, 1)\n"
     ]
    }
   ],
   "source": [
    "print(X1.shape,AX1.shape)"
   ]
  },
  {
   "cell_type": "code",
   "execution_count": 14,
   "metadata": {
    "collapsed": true
   },
   "outputs": [],
   "source": [
    "\n",
    "visible1 = Input(shape=(n_steps, n_features))\n",
    "lstm1 = LSTM(32, activation = 'tanh',return_sequences = False)(visible1)\n",
    "\n",
    "\n",
    "visible2 = Input(shape=(n_steps, n_features))\n",
    "lstm2 = LSTM(32, activation = 'tanh',return_sequences = False)(visible2)\n",
    "\n",
    "visible3 = Input(shape=(n_steps, n_features))\n",
    "lstm3 = LSTM(32, activation = 'tanh',return_sequences = False)(visible3)\n",
    "\n",
    "visible4 = Input(shape=(n_steps, n_features))\n",
    "lstm4 = LSTM(32, activation = 'tanh',return_sequences = False)(visible4)\n",
    "\n",
    "visible5 = Input(shape=(n_steps, n_features))\n",
    "lstm5 = LSTM(32, activation = 'tanh',return_sequences = False)(visible5)\n",
    "\n",
    "visible6 = Input(shape=(n_steps, n_features))\n",
    "lstm6 = LSTM(32, activation = 'tanh',return_sequences = False)(visible6)\n",
    "\n",
    "visible7 = Input(shape=(n_steps, n_features))\n",
    "lstm7 = LSTM(32, activation = 'tanh',return_sequences = False)(visible7)\n",
    "\n",
    "visible8 = Input(shape=(n_steps, n_features))\n",
    "lstm8 = LSTM(32, activation = 'tanh',return_sequences = False)(visible8)\n",
    "\n",
    "visible9 = Input(shape=(n_steps, n_features))\n",
    "lstm9 = LSTM(32, activation = 'tanh',return_sequences = False)(visible9)\n",
    "\n",
    "visible10 = Input(shape=(n_steps, n_features))\n",
    "lstm10 = LSTM(32, activation = 'tanh',return_sequences = False)(visible10)\n",
    "\n",
    "visible11 = Input(shape=(n_steps, n_features))\n",
    "lstm11 = LSTM(32, activation = 'tanh',return_sequences = False)(visible11)\n",
    "\n",
    "visible12 = Input(shape=(n_steps, n_features))\n",
    "lstm12 = LSTM(32, activation = 'tanh',return_sequences = False)(visible12)\n",
    "\n",
    "visible13 = Input(shape=(n_steps, n_features))\n",
    "lstm13 = LSTM(32, activation = 'tanh',return_sequences = False)(visible13)\n",
    "\n",
    "visible14 = Input(shape=(n_steps, n_features))\n",
    "lstm14 = LSTM(32, activation = 'tanh',return_sequences = False)(visible14)\n",
    "\n",
    "visible15 = Input(shape=(n_steps, n_features))\n",
    "lstm15 = LSTM(32, activation = 'tanh',return_sequences = False)(visible15)\n",
    "\n",
    "visible16 = Input(shape=(n_steps, n_features))\n",
    "lstm16 = LSTM(32, activation = 'tanh',return_sequences = False)(visible16)\n",
    "\n",
    "visible17 = Input(shape=(n_steps, n_features))\n",
    "lstm17 = LSTM(32, activation = 'tanh',return_sequences = False)(visible17)\n",
    "\n",
    "visible18 = Input(shape=(n_steps, n_features))\n",
    "lstm18 = LSTM(32, activation = 'tanh',return_sequences = False)(visible18)\n",
    "\n",
    "visible19 = Input(shape=(n_steps, n_features))\n",
    "lstm19 = LSTM(32, activation = 'tanh',return_sequences = False)(visible19)\n",
    "\n",
    "visible20 = Input(shape=(n_steps, n_features))\n",
    "lstm20 = LSTM(32, activation = 'tanh',return_sequences = False)(visible20)\n"
   ]
  },
  {
   "cell_type": "code",
   "execution_count": 15,
   "metadata": {
    "collapsed": true
   },
   "outputs": [],
   "source": [
    "merge = concatenate([lstm1, lstm2, lstm3, lstm4, lstm5, lstm6, lstm7, lstm8, lstm9, lstm10, lstm11, lstm12,lstm13, lstm14, lstm15, lstm16,lstm17, lstm18, lstm19, lstm20])\n",
    "dense = Dense(100, activation='relu')(merge)\n",
    "#dense = Dropout(0.2)(densea)\n",
    "output = Dense(1)(dense)\n",
    "model = Model(inputs=[visible1, visible2, visible3, visible4, visible5, visible6, visible7, visible8, visible9, visible10, visible11, visible12, visible13, visible14, visible15, visible16,visible17, visible18, visible19, visible20], outputs=output)"
   ]
  },
  {
   "cell_type": "code",
   "execution_count": 20,
   "metadata": {
    "collapsed": true
   },
   "outputs": [],
   "source": [
    "model.compile(optimizer='adam', loss='mse')"
   ]
  },
  {
   "cell_type": "code",
   "execution_count": 21,
   "metadata": {
    "collapsed": true
   },
   "outputs": [],
   "source": [
    "train_x = [X1, X2, X3, X4, X5, X6,X7, X8, X9, X10, X11, X12, X13,X14,X15, X16, X17, X18, X19, X20]\n",
    "test_x = [AX1, AX2, AX3, AX4, AX5, AX6,AX7, AX8, AX9, AX10, AX11, AX12, AX13,AX14,AX15, AX16, AX17, AX18, AX19, AX20]"
   ]
  },
  {
   "cell_type": "code",
   "execution_count": 22,
   "metadata": {
    "scrolled": true
   },
   "outputs": [
    {
     "name": "stdout",
     "output_type": "stream",
     "text": [
      "Train on 1304 samples, validate on 259 samples\n",
      "Epoch 1/32\n",
      "1304/1304 [==============================] - 80s 62ms/step - loss: 0.0045 - val_loss: 0.0074\n",
      "Epoch 2/32\n",
      "1304/1304 [==============================] - 31s 24ms/step - loss: 0.0039 - val_loss: 0.0078\n",
      "Epoch 3/32\n",
      "1304/1304 [==============================] - 29s 22ms/step - loss: 0.0039 - val_loss: 0.0099\n",
      "Epoch 4/32\n",
      "1304/1304 [==============================] - 29s 22ms/step - loss: 0.0038 - val_loss: 0.0075\n",
      "Epoch 5/32\n",
      "1304/1304 [==============================] - 30s 23ms/step - loss: 0.0038 - val_loss: 0.0079\n",
      "Epoch 6/32\n",
      "1304/1304 [==============================] - 28s 22ms/step - loss: 0.0037 - val_loss: 0.0073\n",
      "Epoch 7/32\n",
      "1304/1304 [==============================] - 28s 21ms/step - loss: 0.0037 - val_loss: 0.0080\n",
      "Epoch 8/32\n",
      "1304/1304 [==============================] - 27s 21ms/step - loss: 0.0038 - val_loss: 0.0074\n",
      "Epoch 9/32\n",
      "1304/1304 [==============================] - 28s 22ms/step - loss: 0.0037 - val_loss: 0.0081\n",
      "Epoch 10/32\n",
      "1304/1304 [==============================] - 31s 24ms/step - loss: 0.0037 - val_loss: 0.0074\n",
      "Epoch 11/32\n",
      "1304/1304 [==============================] - 30s 23ms/step - loss: 0.0037 - val_loss: 0.0081\n",
      "Epoch 12/32\n",
      "1304/1304 [==============================] - 29s 22ms/step - loss: 0.0036 - val_loss: 0.0074\n",
      "Epoch 13/32\n",
      "1304/1304 [==============================] - 29s 22ms/step - loss: 0.0037 - val_loss: 0.0078\n",
      "Epoch 14/32\n",
      "1304/1304 [==============================] - 29s 22ms/step - loss: 0.0036 - val_loss: 0.0075\n",
      "Epoch 15/32\n",
      "1304/1304 [==============================] - 27s 21ms/step - loss: 0.0036 - val_loss: 0.0077\n",
      "Epoch 16/32\n",
      "1304/1304 [==============================] - 28s 22ms/step - loss: 0.0036 - val_loss: 0.0076\n",
      "Epoch 17/32\n",
      "1304/1304 [==============================] - 28s 22ms/step - loss: 0.0035 - val_loss: 0.0079\n",
      "Epoch 18/32\n",
      "1304/1304 [==============================] - 27s 21ms/step - loss: 0.0036 - val_loss: 0.0074\n",
      "Epoch 19/32\n",
      "1304/1304 [==============================] - 30s 23ms/step - loss: 0.0035 - val_loss: 0.0074\n",
      "Epoch 20/32\n",
      "1304/1304 [==============================] - 29s 22ms/step - loss: 0.0035 - val_loss: 0.0077\n",
      "Epoch 21/32\n",
      "1304/1304 [==============================] - 30s 23ms/step - loss: 0.0035 - val_loss: 0.0073\n",
      "Epoch 22/32\n",
      "1304/1304 [==============================] - 29s 22ms/step - loss: 0.0035 - val_loss: 0.0076\n",
      "Epoch 23/32\n",
      "1304/1304 [==============================] - 28s 22ms/step - loss: 0.0035 - val_loss: 0.0073ss: 0.0\n",
      "Epoch 24/32\n",
      "1304/1304 [==============================] - 28s 22ms/step - loss: 0.0035 - val_loss: 0.0076\n",
      "Epoch 25/32\n",
      "1304/1304 [==============================] - 28s 21ms/step - loss: 0.0035 - val_loss: 0.0075\n",
      "Epoch 26/32\n",
      "1304/1304 [==============================] - 28s 21ms/step - loss: 0.0035 - val_loss: 0.0081\n",
      "Epoch 27/32\n",
      "1304/1304 [==============================] - 28s 21ms/step - loss: 0.0035 - val_loss: 0.0084\n",
      "Epoch 28/32\n",
      "1304/1304 [==============================] - 28s 21ms/step - loss: 0.0035 - val_loss: 0.0074\n",
      "Epoch 29/32\n",
      "1304/1304 [==============================] - 28s 22ms/step - loss: 0.0035 - val_loss: 0.0074\n",
      "Epoch 30/32\n",
      "1304/1304 [==============================] - 32s 25ms/step - loss: 0.0034 - val_loss: 0.0074\n",
      "Epoch 31/32\n",
      "1304/1304 [==============================] - 31s 24ms/step - loss: 0.0033 - val_loss: 0.0074\n",
      "Epoch 32/32\n",
      "1304/1304 [==============================] - 30s 23ms/step - loss: 0.0034 - val_loss: 0.0073\n"
     ]
    }
   ],
   "source": [
    "history = model.fit(train_x, y_train, epochs=32, verbose=1,batch_size=5, validation_data=(test_x, y_test))\n"
   ]
  },
  {
   "cell_type": "code",
   "execution_count": 27,
   "metadata": {
    "collapsed": true
   },
   "outputs": [],
   "source": [
    "def rsquared(x, y):\n",
    "    \"\"\" Return R^2 where x and y are array-like.\"\"\"\n",
    "\n",
    "    slope, intercept, r_value, p_value, std_err = stats.linregress(x, y)\n",
    "    return r_value**2"
   ]
  },
  {
   "cell_type": "code",
   "execution_count": 29,
   "metadata": {
    "collapsed": true
   },
   "outputs": [],
   "source": [
    "y_train_pred = model.predict(train_x)\n",
    "y_pred = model.predict(test_x)\n",
    "\n",
    "\n",
    "actual = y_train\n",
    "predicted = y_train_pred\n",
    "maxv = mx[20]\n",
    "minv = mn[20]\n",
    "actual = np.array(actual)*(maxv-minv) + minv\n",
    "predicted = np.array(predicted)*(maxv-minv) + minv\n",
    "\n",
    "actualAvg10 = list()\n",
    "predictedAvg10 = list()\n",
    "for i in range(0, actual.shape[0], 7):\n",
    "        actualAvg10.append(np.sum(actual[i:i+7]))\n",
    "        predictedAvg10.append(np.sum(predicted[i:i+7]))\n",
    "actualAvg10 = np.array(actualAvg10)\n",
    "actualAvg10 = actualAvg10.reshape(len(actualAvg10),)\n",
    "predictedAvg10 = np.array(predictedAvg10)\n",
    "predictedAvg10 = predictedAvg10.reshape(len(predictedAvg10),)\n",
    "actual = actual.reshape(len(actual),)\n",
    "predicted = predicted.reshape(len(predicted),)\n",
    "#train = pd.DataFrame({\"Actual\":actualAvg10,\"Pred\":predictedAvg10})\n",
    "w_train = pd.DataFrame({'y_train': actualAvg10, 'y_train_pred': predictedAvg10})\n",
    "d_train = pd.DataFrame({'y_train': actual, 'y_train_pred': predicted})\n",
    "\n",
    "w_rmse=np.sqrt(mean_squared_error(np.array(actualAvg10), np.array(predictedAvg10)))\n",
    "      \n",
    "w_r_squared=rsquared(np.array(actualAvg10),np.array(predictedAvg10))\n",
    "\n",
    "d_rmse=np.sqrt(mean_squared_error(np.array(actual), np.array(predicted)))\n",
    "      \n",
    "d_r_squared=rsquared(np.array(actual),np.array(predicted))\n",
    "\n",
    "\n",
    "actual_t = y_test\n",
    "predicted_t = y_pred\n",
    "maxv = mx[20]\n",
    "minv = mn[20]\n",
    "actual_t = np.array(actual_t)*(maxv-minv) + minv\n",
    "predicted_t = np.array(predicted_t)*(maxv-minv) + minv\n",
    "\n",
    "actualAvg10_t = list()\n",
    "predictedAvg10_t = list()\n",
    "for i in range(0, actual_t.shape[0], 7):\n",
    "        actualAvg10_t.append(np.sum(actual_t[i:i+7]))\n",
    "        predictedAvg10_t.append(np.sum(predicted_t[i:i+7]))\n",
    "actualAvg10_t = np.array(actualAvg10_t)\n",
    "actualAvg10_t = actualAvg10_t.reshape(len(actualAvg10_t),)\n",
    "predictedAvg10_t = np.array(predictedAvg10_t)\n",
    "predictedAvg10_t = predictedAvg10_t.reshape(len(predictedAvg10_t),)\n",
    "actual_t = actual_t.reshape(len(actual_t),)\n",
    "predicted_t = predicted_t.reshape(len(predicted_t),)\n",
    "#train = pd.DataFrame({\"Actual\":actualAvg10,\"Pred\":predictedAvg10})\n",
    "w_test = pd.DataFrame({'y_test': actualAvg10_t, 'y_test_pred': predictedAvg10_t})\n",
    "d_test = pd.DataFrame({'y_test': actual_t, 'y_test_pred': predicted_t})\n",
    "\n",
    "w_rmse_t=np.sqrt(mean_squared_error(np.array(actualAvg10_t), np.array(predictedAvg10_t)))\n",
    "      \n",
    "w_r_squared_t=rsquared(np.array(actualAvg10_t),np.array(predictedAvg10_t))\n",
    "\n",
    "d_rmse_t=np.sqrt(mean_squared_error(np.array(actual_t), np.array(predicted_t)))\n",
    "      \n",
    "d_r_squared_t=rsquared(np.array(actual_t),np.array(predicted_t))\n"
   ]
  },
  {
   "cell_type": "code",
   "execution_count": 31,
   "metadata": {},
   "outputs": [
    {
     "name": "stdout",
     "output_type": "stream",
     "text": [
      "weekly train rmse , weekly train r2 : 267.03105612 0.455459260919\n",
      "weekly test rmse , weekly test r2 : 275.222808804 0.0276431709989\n",
      "daily train rmse, daily train r2 88.2595997829 0.134448948935\n",
      "daily test rmse, daily test r2 129.698473964 6.00905628839e-05\n"
     ]
    }
   ],
   "source": [
    "print(\"weekly train rmse , weekly train r2 :\",w_rmse,w_r_squared)\n",
    "print(\"weekly test rmse , weekly test r2 :\",w_rmse_t,w_r_squared_t)\n",
    "\n",
    "print(\"daily train rmse, daily train r2\",d_rmse,d_r_squared)\n",
    "print(\"daily test rmse, daily test r2\",d_rmse_t,d_r_squared_t)"
   ]
  },
  {
   "cell_type": "code",
   "execution_count": 32,
   "metadata": {
    "collapsed": true
   },
   "outputs": [],
   "source": [
    "w_test.to_csv(\"C:/Users/user/Desktop/try/weekly_test_\"+str(w_rmse_t)+\"_\"+str(w_r_squared_t)+\".csv\")\n",
    "d_test.to_csv(\"C:/Users/user/Desktop/try/daily_test_\"+str(d_rmse_t)+\"_\"+str(d_r_squared_t)+\".csv\")\n",
    "\n",
    "w_train.to_csv(\"C:/Users/user/Desktop/try/weekly_train_\"+str(w_rmse)+\"_\"+str(w_r_squared)+\".csv\")\n",
    "d_train.to_csv(\"C:/Users/user/Desktop/try/daily_train_\"+str(d_rmse)+\"_\"+str(d_r_squared)+\".csv\")"
   ]
  },
  {
   "cell_type": "code",
   "execution_count": 33,
   "metadata": {
    "collapsed": true
   },
   "outputs": [],
   "source": [
    "model.save(\"C:/Users/user/Desktop/try/model.h5\")"
   ]
  },
  {
   "cell_type": "code",
   "execution_count": null,
   "metadata": {
    "collapsed": true
   },
   "outputs": [],
   "source": [
    "## Model Visuliazation\n",
    "\n",
    "from keras.utils import plot_model\n",
    "plot_model(model, to_file='model.png')"
   ]
  },
  {
   "cell_type": "code",
   "execution_count": null,
   "metadata": {
    "collapsed": true
   },
   "outputs": [],
   "source": []
  }
 ],
 "metadata": {
  "kernelspec": {
   "display_name": "Python 3",
   "language": "python",
   "name": "python3"
  },
  "language_info": {
   "codemirror_mode": {
    "name": "ipython",
    "version": 3
   },
   "file_extension": ".py",
   "mimetype": "text/x-python",
   "name": "python",
   "nbconvert_exporter": "python",
   "pygments_lexer": "ipython3",
   "version": "3.6.3"
  }
 },
 "nbformat": 4,
 "nbformat_minor": 2
}
