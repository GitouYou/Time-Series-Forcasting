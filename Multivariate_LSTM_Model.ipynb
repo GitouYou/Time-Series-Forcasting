{
 "cells": [
  {
   "cell_type": "code",
   "execution_count": 20,
   "metadata": {
    "collapsed": true
   },
   "outputs": [],
   "source": [
    "import os\n",
    "\n",
    "import matplotlib.pyplot as plt\n",
    "import numpy as np\n",
    "\n",
    "from pandas import read_csv\n",
    "from pandas import concat\n",
    "from pandas import DataFrame\n",
    "from keras.layers import Input\n",
    "from numpy import array\n",
    "from keras.models import Model\n",
    "from keras.layers import Dense\n",
    "from keras.layers.merge import concatenate\n",
    "from keras.models import Sequential\n",
    "from keras.layers import Dropout\n",
    "from keras.models import Sequential\n",
    "from keras.layers import Dense\n",
    "from keras.layers import Flatten, Dropout\n",
    "from keras.layers import LSTM\n",
    "from keras.utils import plot_model\n",
    "from sklearn.metrics import mean_squared_error\n",
    "from keras.models import load_model\n",
    "from scipy import stats\n",
    "import csv as csv\n",
    "\n",
    "import copy\n",
    "\n",
    "os.environ['TF_CPP_MIN_LOG_LEVEL'] = '2'\n",
    "fileName = 'Work_with_Ambuj.csv'\n",
    "modelbestName = \"mlp_1a_best_result\"\n",
    "data = read_csv(fileName)\n",
    "dataAvg = [503.62859]\n",
    "dataStd = [100.4557059]\n",
    "\n",
    "nDiff = 0\n"
   ]
  },
  {
   "cell_type": "code",
   "execution_count": 21,
   "metadata": {
    "collapsed": true
   },
   "outputs": [],
   "source": [
    "import pandas as pd\n",
    "import matplotlib.pyplot as plt\n",
    "%matplotlib inline"
   ]
  },
  {
   "cell_type": "code",
   "execution_count": 22,
   "metadata": {
    "collapsed": true
   },
   "outputs": [],
   "source": [
    "data.set_index('Date', inplace = True)\n",
    "data.index = pd.to_datetime(data.index)\n",
    "data = (data-data.mean())/data.std()"
   ]
  },
  {
   "cell_type": "code",
   "execution_count": 23,
   "metadata": {
    "collapsed": true
   },
   "outputs": [],
   "source": [
    "data = data.as_matrix()"
   ]
  },
  {
   "cell_type": "code",
   "execution_count": 24,
   "metadata": {
    "collapsed": true
   },
   "outputs": [],
   "source": [
    "import numpy"
   ]
  },
  {
   "cell_type": "code",
   "execution_count": null,
   "metadata": {
    "collapsed": true
   },
   "outputs": [],
   "source": []
  },
  {
   "cell_type": "code",
   "execution_count": 25,
   "metadata": {
    "collapsed": true
   },
   "outputs": [],
   "source": [
    "def split_sequences(sequences, n_steps):\n",
    "    X, y = list(), list()\n",
    "    for i in range(len(sequences)):\n",
    "# find the end of this pattern\n",
    "        end_ix = i + n_steps\n",
    "# check if we are beyond the dataset\n",
    "        if end_ix > len(sequences):\n",
    "            break\n",
    "# gather input and output parts of the pattern\n",
    "        seq_x, seq_y = sequences[i:end_ix, :-1], sequences[end_ix-1, -1]\n",
    "        X.append(seq_x)\n",
    "        y.append(seq_y)\n",
    "    return array(X), array(y)"
   ]
  },
  {
   "cell_type": "code",
   "execution_count": 26,
   "metadata": {},
   "outputs": [
    {
     "name": "stdout",
     "output_type": "stream",
     "text": [
      "(1563, 3, 20) (1563,)\n"
     ]
    }
   ],
   "source": [
    "n_steps = 3\n",
    "# convert into input/output\n",
    "X, y = split_sequences(data, n_steps)\n",
    "print(X.shape, y.shape)"
   ]
  },
  {
   "cell_type": "code",
   "execution_count": 27,
   "metadata": {
    "collapsed": true
   },
   "outputs": [],
   "source": [
    "x_train = X[:1304]\n",
    "y_train = y[:1304]\n",
    "x_test = X[1304:]\n",
    "y_test = y[1304:]"
   ]
  },
  {
   "cell_type": "code",
   "execution_count": 28,
   "metadata": {},
   "outputs": [
    {
     "name": "stdout",
     "output_type": "stream",
     "text": [
      "(1304, 3, 20)\n",
      "(1304,)\n",
      "(259, 3, 20)\n",
      "(259,)\n"
     ]
    }
   ],
   "source": [
    "print(x_train.shape)\n",
    "print(y_train.shape)\n",
    "print(x_test.shape)\n",
    "print(y_test.shape)"
   ]
  },
  {
   "cell_type": "code",
   "execution_count": null,
   "metadata": {
    "collapsed": true
   },
   "outputs": [],
   "source": []
  },
  {
   "cell_type": "code",
   "execution_count": 29,
   "metadata": {},
   "outputs": [
    {
     "name": "stdout",
     "output_type": "stream",
     "text": [
      "(1304, 3, 20)\n",
      "(1304,)\n",
      "(259, 3, 20)\n",
      "(259,)\n"
     ]
    }
   ],
   "source": [
    "print(x_train.shape)\n",
    "print(y_train.shape)\n",
    "print(x_test.shape)\n",
    "print(y_test.shape)"
   ]
  },
  {
   "cell_type": "code",
   "execution_count": null,
   "metadata": {
    "collapsed": true
   },
   "outputs": [],
   "source": []
  },
  {
   "cell_type": "code",
   "execution_count": null,
   "metadata": {
    "collapsed": true
   },
   "outputs": [],
   "source": []
  },
  {
   "cell_type": "code",
   "execution_count": null,
   "metadata": {
    "collapsed": true
   },
   "outputs": [],
   "source": []
  },
  {
   "cell_type": "code",
   "execution_count": 30,
   "metadata": {
    "collapsed": true
   },
   "outputs": [],
   "source": [
    "\n",
    "def train(x_train,y_train, config):\n",
    "        inputShape, numNode, numEpoch, batchSize = config\n",
    "        #if nDiff > 0:\n",
    "          #      trainingData = np.array(difference(trainingData))\n",
    "        #trainX, trainY = trainingData[:, :-1], trainingData[:, -1]\n",
    "        #trainX = trainX.reshape((trainX.shape[0], trainX.shape[1], 1))\n",
    "        n_features = x_train.shape[2]\n",
    "        model = Sequential()\n",
    "\n",
    "        model.add(LSTM(64, activation = 'tanh',return_sequences = False, input_shape = (n_steps,n_features)))\n",
    "        \n",
    "        #model.add(LSTM(16, activation = 'tanh',return_sequences = False))\n",
    "        model.add(Dropout(0.3))\n",
    "        model.add(Dense(64,activation = 'tanh'))\n",
    "        model.add(Dropout(0.3))\n",
    "\n",
    "        model.add(Dense(1,activation = 'tanh'))\n",
    "        model.compile(loss = 'mse', optimizer = 'adam')\n",
    "\n",
    "\n",
    "    \n",
    "        history = model.fit(x_train, y_train, epochs = 64, batch_size = 20, verbose = 0, shuffle = False)\n",
    "        # summarize history for loss\n",
    "        #plt.plot(history.history['loss'])\n",
    "        #plt.plot(history.history['val_loss'])\n",
    "        #plt.title('model loss')\n",
    "        #plt.ylabel('loss')\n",
    "        #plt.xlabel('epoch')\n",
    "        #plt.legend(['train', 'test'], loc='upper left')\n",
    "        #plt.show()\n",
    "        #plt.close()\n",
    "        #plt.savefig(modelName + \"ind\")\n",
    "        #plot_model(model, to_file=modelName+'_.png', show_shapes=True, show_layer_names=True)  \n",
    "        #print(\"training loss:\" , np.mean(np.array(history.history['loss'])))\n",
    "        #print(\"Validation loss:\" , np.mean(np.array(history.history['val_loss'])))\n",
    "        return model,np.mean(np.array(history.history['loss']))"
   ]
  },
  {
   "cell_type": "markdown",
   "metadata": {},
   "source": [
    "config = [60,64,256,5]\n",
    "# inputShape, numNode, numEpoch, batchSize = config\n",
    "m,v = train(x_train,y_train, config)\n",
    "print(v)"
   ]
  },
  {
   "cell_type": "code",
   "execution_count": 31,
   "metadata": {
    "collapsed": true
   },
   "outputs": [],
   "source": [
    "def predict(model, testX):\n",
    "        #testX = np.array(testX).reshape((1, inputShape))\n",
    "        predictions = model.predict(testX, verbose = 0)\n",
    "        return array(predictions).reshape(len(predictions),)"
   ]
  },
  {
   "cell_type": "markdown",
   "metadata": {},
   "source": [
    "p = predict(m,x_test)\n",
    "q = predict(m,x_train)\n",
    "print(p.shape)\n",
    "print(q.shape)"
   ]
  },
  {
   "cell_type": "code",
   "execution_count": null,
   "metadata": {
    "collapsed": true
   },
   "outputs": [],
   "source": []
  },
  {
   "cell_type": "code",
   "execution_count": 32,
   "metadata": {
    "collapsed": true
   },
   "outputs": [],
   "source": [
    "def rsquared(x, y):\n",
    "    \"\"\" Return R^2 where x and y are array-like.\"\"\"\n",
    "\n",
    "    slope, intercept, r_value, p_value, std_err = stats.linregress(x, y)\n",
    "    return r_value**2\n",
    "\n",
    "def train_measureRmse(actual, predicted, dataAvg, dataStd,found,cnt):\n",
    "         \n",
    "        actual = np.array(actual)*dataStd + dataAvg\n",
    "        predicted = np.array(predicted)*dataStd + dataAvg\n",
    "        #print(predicted[0],actual[1])\n",
    "        #np.savetxt(modelName + \"predicted_\" + columnName, predicted)\n",
    "        #np.savetxt(\"actual_\" + columnName, actual)\n",
    "        actualAvg10 = list()\n",
    "        predictedAvg10 = list()\n",
    "        for i in range(0, actual.shape[0], 7):\n",
    "                actualAvg10.append(np.sum(actual[i:i+7]))\n",
    "       \t        predictedAvg10.append(np.sum(predicted[i:i+7]))\n",
    "        actualAvg10 = np.array(actualAvg10)\n",
    "        actualAvg10 = actualAvg10.reshape(len(actualAvg10),)\n",
    "        predictedAvg10 = np.array(predictedAvg10)\n",
    "        predictedAvg10 = predictedAvg10.reshape(len(predictedAvg10),)\n",
    "        actual = actual.reshape(len(actual),)\n",
    "        predicted = predicted.reshape(len(predicted),)\n",
    "        #train = pd.DataFrame({\"Actual\":actualAvg10,\"Pred\":predictedAvg10})\n",
    "        w_train = pd.DataFrame({'y_train': actualAvg10, 'y_train_pred': predictedAvg10})\n",
    "        d_train = pd.DataFrame({'y_train': actual, 'y_train_pred': predicted})\n",
    "        #test.to_csv(\"test\"+str(cnt)+str(rmse)\".csv\")\n",
    "        \n",
    "        #plt.plot(np.array(actualAvg10))\n",
    "        #plt.plot(np.array(predictedAvg10))\n",
    "        #plt.show()\n",
    "        rmse=np.sqrt(mean_squared_error(np.array(actualAvg10), np.array(predictedAvg10)))\n",
    "      \n",
    "        r_squared=rsquared(np.array(actualAvg10),np.array(predictedAvg10))\n",
    "        \n",
    "        \n",
    "        \n",
    "        \n",
    "        if found==1:\n",
    "            w_train.to_csv(\"C:/Users/user/try/weekly_train_\"+str(cnt)+\"_\"+str(rmse)+\".csv\")\n",
    "            d_train.to_csv(\"C:/Users/user/try/daily_train_\"+str(cnt)+\"_\"+str(rmse)+\".csv\")\n",
    "            #np.savetxt(\"C:/Users/user/try/train_\"+str(cnt)+\"_\"+str(rmse)+\".csv\", predictions)\n",
    "        #print(\"RMSE and 1-rsquared\", rmse,1-r_squared)\n",
    "        #cnt = cnt+1\n",
    "        return rmse,r_squared\n",
    "        #r_squared=rsquared(actual.reshape(actual.shape[0]), predicted.reshape(predicted.shape[0]))\n",
    "        #return rmse\n",
    "       \n",
    "def test_measureRmse(actual, predicted, dataAvg, dataStd,found,cnt):\n",
    "        \n",
    "        actual = np.array(actual)*dataStd + dataAvg\n",
    "        predicted = np.array(predicted)*dataStd + dataAvg\n",
    "        #print(predicted[0],actual[1])\n",
    "        #np.savetxt(modelName + \"predicted_\" + columnName, predicted)\n",
    "        #np.savetxt(\"actual_\" + columnName, actual)\n",
    "        actualAvg10 = list()\n",
    "        predictedAvg10 = list()\n",
    "        for i in range(0, actual.shape[0], 7):\n",
    "                actualAvg10.append(np.sum(actual[i:i+7]))\n",
    "       \t        predictedAvg10.append(np.sum(predicted[i:i+7]))\n",
    "        actualAvg10 = np.array(actualAvg10)\n",
    "        actualAvg10 = actualAvg10.reshape(len(actualAvg10),)\n",
    "        predictedAvg10 = np.array(predictedAvg10)\n",
    "        predictedAvg10 = predictedAvg10.reshape(len(predictedAvg10),)\n",
    "        w_test = pd.DataFrame({'y_test': actualAvg10, 'y_test_pred': predictedAvg10})\n",
    "        actual = actual.reshape(len(actual),)\n",
    "        predicted = predicted.reshape(len(predicted),)\n",
    "        d_test = pd.DataFrame({'y_test': actual, 'y_test_pred': predicted})\n",
    "        #test.to_csv(\"test\"+str(cnt)+\".csv\")\n",
    "        #plt.plot(np.array(actualAvg10))\n",
    "        #plt.plot(np.array(predictedAvg10))\n",
    "        #plt.show()\n",
    "        rmse=np.sqrt(mean_squared_error(np.array(actualAvg10), np.array(predictedAvg10)))\n",
    "      \n",
    "        r_squared=rsquared(np.array(actualAvg10),np.array(predictedAvg10))\n",
    "        if found==1:\n",
    "            w_test.to_csv(\"C:/Users/user/try/weekly_test_\"+str(cnt)+\"_\"+str(rmse)+\".csv\")\n",
    "            d_test.to_csv(\"C:/Users/user/try/daily_test_\"+str(cnt)+\"_\"+str(rmse)+\".csv\")\n",
    "        #print(\"RMSE and 1-rsquared\", rmse,1-r_squared)\n",
    "        return rmse,r_squared\n",
    "        #r_squared=rsquared(actual.reshape(actual.sh"
   ]
  },
  {
   "cell_type": "markdown",
   "metadata": {
    "collapsed": true
   },
   "source": [
    "rmse,r = test_measureRmse(y_test, p, 503, 100,1,99)\n",
    "print(rmse,r)\n",
    "rmse,r = train_measureRmse(y_train, q, 503, 100,1,99)\n",
    "print(rmse,r)"
   ]
  },
  {
   "cell_type": "code",
   "execution_count": 33,
   "metadata": {
    "collapsed": true
   },
   "outputs": [],
   "source": [
    "def executeModel(x_train,y_train,x_test,y_test, config,found):\n",
    "    f=open(\"C:/Users/user/try/result_1A.csv\",'a')\n",
    "    writer=csv.writer(f)\n",
    "    \n",
    "    bestError=400\n",
    "    for j in range(1,30):\n",
    "        model,train_loss = train(x_train,y_train, config)\n",
    "        train_pred = model.predict(x_train)\n",
    "        test_pred = model.predict(x_test)\n",
    "        test_error,test_rsq = test_measureRmse(y_test, test_pred, dataAvg[0], dataStd[0],found,j)\n",
    "        tr_error,tr_rsq = train_measureRmse(y_train, train_pred, dataAvg[0], dataStd[0],found,j)\n",
    "        \n",
    "        \n",
    "        modelName=\"Model_1a_\"+str(j)+\"_\"+str(test_error)\n",
    "        model.save(\"C:/Users/user/try/\"+ modelName+\".h5\")\n",
    "        writer.writerow([modelName,tr_error,tr_rsq,test_error,test_rsq])\n",
    "        \n",
    "        if test_error < bestError:\n",
    "            bestError = test_error\n",
    "            bestmodelName=\"best_model\"\n",
    "            model.save(\"C:/Users/user/try/\"+ bestmodelName+\".h5\")\n",
    "    return bestError"
   ]
  },
  {
   "cell_type": "code",
   "execution_count": 34,
   "metadata": {},
   "outputs": [
    {
     "name": "stdout",
     "output_type": "stream",
     "text": [
      "326.705462193\n"
     ]
    }
   ],
   "source": [
    "config = [60,128 , 64, 15]\n",
    "#inputShape, numNode, numEpoch, batchSize = config\n",
    "found = 1\n",
    "print(executeModel(x_train,y_train,x_test,y_test, config,found))\n",
    "\n",
    "#inputShape, numNode, numEpoch, batchSize = config\n"
   ]
  },
  {
   "cell_type": "code",
   "execution_count": 35,
   "metadata": {
    "collapsed": true
   },
   "outputs": [],
   "source": [
    "model = load_model(\"C:/Users/user/try/best_model.h5\")\n",
    "\n",
    "found=1\n",
    "\n",
    "train_pred = model.predict(x_train)\n",
    "test_pred = model.predict(x_test)\n",
    "test_error,test_rsq = test_measureRmse(y_test, test_pred, dataAvg[0], dataStd[0],found,100)\n",
    "tr_error,tr_rsq = train_measureRmse(y_train, train_pred, dataAvg[0], dataStd[0],found,100)\n"
   ]
  },
  {
   "cell_type": "code",
   "execution_count": 36,
   "metadata": {},
   "outputs": [
    {
     "name": "stdout",
     "output_type": "stream",
     "text": [
      "326.705462193 0.0154765863849 153.838496643 0.757910630832\n"
     ]
    }
   ],
   "source": [
    "print(test_error,test_rsq,tr_error,tr_rsq)"
   ]
  },
  {
   "cell_type": "code",
   "execution_count": 37,
   "metadata": {},
   "outputs": [
    {
     "data": {
      "image/png": "[encoded data removed]",
      "text/plain": [
       "<matplotlib.figure.Figure at 0x1478ee58fd0>"
      ]
     },
     "metadata": {},
     "output_type": "display_data"
    }
   ],
   "source": [
    "plt.plot(y_test,c='r')\n",
    "plt.plot(test_pred,c='g') \n",
    "plt.show()"
   ]
  },
  {
   "cell_type": "code",
   "execution_count": null,
   "metadata": {
    "collapsed": true
   },
   "outputs": [],
   "source": []
  },
  {
   "cell_type": "code",
   "execution_count": null,
   "metadata": {
    "collapsed": true
   },
   "outputs": [],
   "source": []
  },
  {
   "cell_type": "code",
   "execution_count": null,
   "metadata": {
    "collapsed": true
   },
   "outputs": [],
   "source": []
  },
  {
   "cell_type": "code",
   "execution_count": null,
   "metadata": {
    "collapsed": true
   },
   "outputs": [],
   "source": []
  },
  {
   "cell_type": "code",
   "execution_count": null,
   "metadata": {
    "collapsed": true
   },
   "outputs": [],
   "source": []
  },
  {
   "cell_type": "code",
   "execution_count": null,
   "metadata": {
    "collapsed": true
   },
   "outputs": [],
   "source": []
  }
 ],
 "metadata": {
  "kernelspec": {
   "display_name": "Python 3",
   "language": "python",
   "name": "python3"
  },
  "language_info": {
   "codemirror_mode": {
    "name": "ipython",
    "version": 3
   },
   "file_extension": ".py",
   "mimetype": "text/x-python",
   "name": "python",
   "nbconvert_exporter": "python",
   "pygments_lexer": "ipython3",
   "version": "3.6.3"
  }
 },
 "nbformat": 4,
 "nbformat_minor": 2
}
